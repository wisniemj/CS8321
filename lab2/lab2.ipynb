{
 "cells": [
  {
   "cell_type": "code",
   "execution_count": 1,
   "metadata": {},
   "outputs": [],
   "source": [
    "import pandas as pd\n",
    "import numpy as np\n",
    "import matplotlib.pyplot as plt\n",
    "\n",
    "from rdkit import Chem, ML\n",
    "from rdkit.Chem import AllChem\n",
    "from rdkit.ML import Scoring\n",
    "from rdkit.ML.Scoring import Scoring\n",
    "from rdkit.ML.Scoring.Scoring import CalcAUC, CalcBEDROC, CalcEnrichment\n",
    "from sklearn.model_selection import train_test_split\n",
    "\n",
    "pd.options.display.max_columns = 100"
   ]
  },
  {
   "cell_type": "markdown",
   "metadata": {},
   "source": [
    "> Give an overview of the dataset you have chosen to use.\n",
    ">\n",
    ">    - What is the classification task and what is the format of the feature data. Is this multi-task, multi-modal, or both? Explain.\n",
    ">    - Who collected the data? Why? When?\n",
    ">    - What evaluation criteria will you be using and why? \n"
   ]
  },
  {
   "cell_type": "markdown",
   "metadata": {},
   "source": [
    "MySQL Query used to create the \"raw\" data from chemBL - note that we do filter to IC50 standard type and nM for our standard units as our only transformations prior to bringing this data into a Python Environment.  We do this to limit the size of the data ingested.  Additionally, we select on choice columns from our first table (Activities) as these columns we believed to be most important and all other columns to be irrelevant or redundant.\n",
    "```\n",
    "SELECT  a.activity_id,\n",
    "\t\ta.assay_id,\n",
    "        a.doc_id,\n",
    "        a.record_id,\n",
    "        a.molregno,\n",
    "        a.standard_relation,\n",
    "        a.standard_value,\n",
    "        a.standard_units,\n",
    "        a.standard_flag,\n",
    "        a.standard_type,\n",
    "        a.pchembl_value,\n",
    "        b.*,\n",
    "        c.*,\n",
    "        d.*,\n",
    "        e.canonical_smiles\n",
    "-- output data\n",
    "INTO OUTFILE 'C:/ProgramData/MySQL/MySQL Server 8.0/Uploads/result.tsv'\n",
    "FIELDS TERMINATED BY '\\t' OPTIONALLY ENCLOSED BY '\"'\n",
    "LINES TERMINATED BY '\\n'\n",
    "FROM chembl.activities a\n",
    "\n",
    "-- Join on ligand table\n",
    "inner join chembl.ligand_eff b\n",
    "on a.activity_id = b.activity_id\n",
    "\n",
    "-- Join on Compound Properties\n",
    "inner join chembl.compound_properties c\n",
    "on a.molregno = c.molregno\n",
    "\n",
    "-- Join on Assays\n",
    "inner join chembl.assays d\n",
    "on a.assay_id = d.assay_id\n",
    "\n",
    "-- Join on Compound Properties for the Smiles\n",
    "inner join chembl.compound_structures e\n",
    "on a.molregno = e.molregno\n",
    "\n",
    "where a.standard_type = 'IC50' and a.standard_units = 'nM';\n",
    "```"
   ]
  },
  {
   "cell_type": "code",
   "execution_count": 2,
   "metadata": {},
   "outputs": [],
   "source": [
    "# read in data\n",
    "df = pd.read_csv(\"chemBL.csv\")"
   ]
  },
  {
   "cell_type": "code",
   "execution_count": 3,
   "metadata": {},
   "outputs": [
    {
     "name": "stdout",
     "output_type": "stream",
     "text": [
      "562960\n"
     ]
    },
    {
     "data": {
      "text/html": [
       "<div>\n",
       "<style scoped>\n",
       "    .dataframe tbody tr th:only-of-type {\n",
       "        vertical-align: middle;\n",
       "    }\n",
       "\n",
       "    .dataframe tbody tr th {\n",
       "        vertical-align: top;\n",
       "    }\n",
       "\n",
       "    .dataframe thead th {\n",
       "        text-align: right;\n",
       "    }\n",
       "</style>\n",
       "<table border=\"1\" class=\"dataframe\">\n",
       "  <thead>\n",
       "    <tr style=\"text-align: right;\">\n",
       "      <th></th>\n",
       "      <th>standard_value</th>\n",
       "      <th>le</th>\n",
       "      <th>target_type</th>\n",
       "      <th>pref_name</th>\n",
       "      <th>canonical_smiles</th>\n",
       "      <th>molecular_species</th>\n",
       "    </tr>\n",
       "  </thead>\n",
       "  <tbody>\n",
       "    <tr>\n",
       "      <th>0</th>\n",
       "      <td>17000.0</td>\n",
       "      <td>0.20</td>\n",
       "      <td>SINGLE PROTEIN</td>\n",
       "      <td>Palmitoyl-CoA oxidase</td>\n",
       "      <td>Cc1nc2cc(OC[C@H](O)CN3CCN(CC(=O)NCCc4ccccc4)CC...</td>\n",
       "      <td>NEUTRAL</td>\n",
       "    </tr>\n",
       "    <tr>\n",
       "      <th>1</th>\n",
       "      <td>180.0</td>\n",
       "      <td>0.25</td>\n",
       "      <td>SINGLE PROTEIN</td>\n",
       "      <td>Palmitoyl-CoA oxidase</td>\n",
       "      <td>Cc1nc2cc(OC[C@H](O)CN3CCN(CC(=O)Nc4cccc(-c5ccc...</td>\n",
       "      <td>NEUTRAL</td>\n",
       "    </tr>\n",
       "    <tr>\n",
       "      <th>2</th>\n",
       "      <td>29.4</td>\n",
       "      <td>0.43</td>\n",
       "      <td>SINGLE PROTEIN</td>\n",
       "      <td>Beta-1 adrenergic receptor</td>\n",
       "      <td>CC(C)(C)NC[C@H](O)CON=C1c2ccccc2-c2ccccc21</td>\n",
       "      <td>BASE</td>\n",
       "    </tr>\n",
       "    <tr>\n",
       "      <th>3</th>\n",
       "      <td>30.8</td>\n",
       "      <td>0.43</td>\n",
       "      <td>SINGLE PROTEIN</td>\n",
       "      <td>Beta-2 adrenergic receptor</td>\n",
       "      <td>CC(C)(C)NC[C@H](O)CON=C1c2ccccc2-c2ccccc21</td>\n",
       "      <td>BASE</td>\n",
       "    </tr>\n",
       "    <tr>\n",
       "      <th>4</th>\n",
       "      <td>120.0</td>\n",
       "      <td>0.56</td>\n",
       "      <td>PROTEIN COMPLEX GROUP</td>\n",
       "      <td>GABA-A receptor; anion channel</td>\n",
       "      <td>CCOC(=O)c1cn2c(n1)sc1ccccc12</td>\n",
       "      <td>NEUTRAL</td>\n",
       "    </tr>\n",
       "  </tbody>\n",
       "</table>\n",
       "</div>"
      ],
      "text/plain": [
       "   standard_value    le            target_type  \\\n",
       "0         17000.0  0.20         SINGLE PROTEIN   \n",
       "1           180.0  0.25         SINGLE PROTEIN   \n",
       "2            29.4  0.43         SINGLE PROTEIN   \n",
       "3            30.8  0.43         SINGLE PROTEIN   \n",
       "4           120.0  0.56  PROTEIN COMPLEX GROUP   \n",
       "\n",
       "                        pref_name  \\\n",
       "0           Palmitoyl-CoA oxidase   \n",
       "1           Palmitoyl-CoA oxidase   \n",
       "2      Beta-1 adrenergic receptor   \n",
       "3      Beta-2 adrenergic receptor   \n",
       "4  GABA-A receptor; anion channel   \n",
       "\n",
       "                                    canonical_smiles molecular_species  \n",
       "0  Cc1nc2cc(OC[C@H](O)CN3CCN(CC(=O)NCCc4ccccc4)CC...           NEUTRAL  \n",
       "1  Cc1nc2cc(OC[C@H](O)CN3CCN(CC(=O)Nc4cccc(-c5ccc...           NEUTRAL  \n",
       "2         CC(C)(C)NC[C@H](O)CON=C1c2ccccc2-c2ccccc21              BASE  \n",
       "3         CC(C)(C)NC[C@H](O)CON=C1c2ccccc2-c2ccccc21              BASE  \n",
       "4                       CCOC(=O)c1cn2c(n1)sc1ccccc12           NEUTRAL  "
      ]
     },
     "execution_count": 3,
     "metadata": {},
     "output_type": "execute_result"
    }
   ],
   "source": [
    "# print length and show sample data\n",
    "print(len(df))\n",
    "df.head()"
   ]
  },
  {
   "cell_type": "code",
   "execution_count": 4,
   "metadata": {},
   "outputs": [],
   "source": [
    "# binarize ligand values based on ranges <=300 nM and >=10000 nM (1 for active, 0 for inactive respectively)\n",
    "df.loc[df[\"standard_value\"] <= 300.0, \"standard_value_bin\"] = 1\n",
    "df.loc[df[\"standard_value\"] >= 10000.0, \"standard_value_bin\"] = 0"
   ]
  },
  {
   "cell_type": "code",
   "execution_count": 5,
   "metadata": {},
   "outputs": [],
   "source": [
    "# filter out where molecular species is null as molecular species is either base, neutral, or acidic\n",
    "# df = df[~df[\"molecular_species\"].isnull()]"
   ]
  },
  {
   "cell_type": "code",
   "execution_count": 6,
   "metadata": {},
   "outputs": [],
   "source": [
    "# determine the assay count by target name\n",
    "targets = df.groupby(\"pref_name\")[[\"target_type\"]].agg({\"target_type\": \"count\"}).sort_values(by=\"target_type\", ascending=False)\n",
    "\n",
    "targets[\"cumulative_count\"] = targets[\"target_type\"].cumsum()\n",
    "\n",
    "targets[\"cumulative_perc\"] = targets[\"cumulative_count\"]/sum(targets[\"target_type\"])\n",
    "\n",
    "# targets = targets[targets[\"cumulative_perc\"] <= 0.8]\n",
    "\n",
    "df = df[df[\"pref_name\"].isin(targets.iloc[:100].index)]\n"
   ]
  },
  {
   "cell_type": "code",
   "execution_count": 7,
   "metadata": {},
   "outputs": [],
   "source": [
    "# CHATGPT GENERATED CODE\n",
    "# Define a function to generate fingerprints\n",
    "def generate_fingerprint(smiles):\n",
    "    mol = Chem.MolFromSmiles(smiles)\n",
    "    fp = AllChem.GetMorganFingerprintAsBitVect(mol, 3, nBits=2048)\n",
    "    features = np.zeros((1,))\n",
    "    Chem.DataStructs.ConvertToNumpyArray(fp, features)\n",
    "    return features\n",
    "\n",
    "# def generate_maccs(smiles):\n",
    "#     mol = Chem.MolFromSmiles(smiles)\n",
    "#     fp = MACCSkeys.GenMACCSKeys(mol)\n",
    "#     features = list(fp.GetOnBits())\n",
    "#     return features\n",
    "\n",
    "# Apply the function to each row of the DataFrame\n",
    "df['Fingerprint'] = df[\"canonical_smiles\"].apply(generate_fingerprint)\n",
    "\n"
   ]
  },
  {
   "cell_type": "markdown",
   "metadata": {},
   "source": [
    ">[1.0 points] How many tasks or modalities are there in the dataset and how do you define each task or modality? That is, explain if the task is within the same domain, cross domains, etc. If there are too many tasks or modalities to train the data reasonably, select a subset of the tasks for classification. For example, you might want to only train on 50 of the classification tasks.  "
   ]
  },
  {
   "cell_type": "code",
   "execution_count": 8,
   "metadata": {},
   "outputs": [
    {
     "data": {
      "text/plain": [
       "(array([34047., 24003., 26335., 23080., 21434., 29621., 29014., 23950.,\n",
       "        22299., 20036.]),\n",
       " array([ 0. ,  9.9, 19.8, 29.7, 39.6, 49.5, 59.4, 69.3, 79.2, 89.1, 99. ]),\n",
       " <BarContainer object of 10 artists>)"
      ]
     },
     "execution_count": 8,
     "metadata": {},
     "output_type": "execute_result"
    },
    {
     "data": {
      "image/png": "[encoded data removed]",
      "text/plain": [
       "<Figure size 432x288 with 2 Axes>"
      ]
     },
     "metadata": {
      "needs_background": "light"
     },
     "output_type": "display_data"
    }
   ],
   "source": [
    "# plot out each set of tasks\n",
    "fig, axs = plt.subplots(1, 2, sharey=True, tight_layout=True)\n",
    "\n",
    "# axs[0].hist(df[\"target_type\"])\n",
    "axs[1].hist(df[\"pref_name\"])"
   ]
  },
  {
   "cell_type": "code",
   "execution_count": 9,
   "metadata": {},
   "outputs": [],
   "source": [
    "task_X_list = []\n",
    "task_y_list = []\n",
    "\n",
    "for s in df[\"pref_name\"].unique():\n",
    "    # example: neutral_X = np.array(df[df[\"molecular_species\"] == \"NEUTRAL\"][\"Fingerprint\"].tolist())\n",
    "    X = np.array(df[df[\"pref_name\"] == s][\"Fingerprint\"].tolist())\n",
    "    y = df[df[\"pref_name\"] == s][\"standard_value_bin\"].values\n",
    "\n",
    "    task_X_list.append((s, X))\n",
    "    task_y_list.append((s, y))"
   ]
  },
  {
   "cell_type": "code",
   "execution_count": 10,
   "metadata": {},
   "outputs": [],
   "source": [
    "# used in case want to concat other datapoints\n",
    "# np.concatenate((neutral_arr, df[df[\"molecular_species\"] == \"NEUTRAL\"][\"standard_value_bin\"].values.reshape(-1,1)), axis=1)"
   ]
  },
  {
   "cell_type": "markdown",
   "metadata": {},
   "source": [
    ">[1.0 points] Split the data into training and testing. Be sure to explain how you performed this operation and why you think it is reasonable to split this particular dataset this way. For multi-task datasets, be sure to explain if it is appropriate to stratify within each task. If the dataset is already split for you, explain how the split was achieved and how it is stratified."
   ]
  },
  {
   "cell_type": "markdown",
   "metadata": {},
   "source": [
    "Since our dataset has ~250,000 records, we decided to split our data into 80% training, 20% testing. For the generalized model, we need to combine all of the tasks into a single task."
   ]
  },
  {
   "cell_type": "code",
   "execution_count": 11,
   "metadata": {},
   "outputs": [],
   "source": [
    "all_data = {\"data\": [], \"target\": [], \"data_test\": [], \"target_test\": []}\n",
    "\n",
    "for x,y in zip(task_X_list, task_y_list):\n",
    "    X_train, X_test, y_train, y_test = train_test_split(x[1], \n",
    "                                                        y[1], \n",
    "                                                        test_size=0.2, \n",
    "                                                        random_state=7)\n",
    "    \n",
    "    all_data[\"data\"].append(X_train)\n",
    "    all_data[\"target\"].append(y_train)        \n",
    "    all_data[\"data_test\"].append(X_test)\n",
    "    all_data[\"target_test\"].append(y_test)\n",
    "\n",
    "X_train_all = np.concatenate(all_data[\"data\"])\n",
    "y_train_all = np.concatenate(all_data[\"target\"])\n",
    "\n",
    "X_test_all = np.concatenate(all_data[\"data_test\"])\n",
    "y_test_all = np.concatenate(all_data[\"target_test\"])"
   ]
  },
  {
   "cell_type": "markdown",
   "metadata": {},
   "source": [
    ">[3.0 points] Train a general model (or per task model) to perform the classification tasks. That is, a general model uses all modalities and all tasks should combined into a single classification task (if possible). Alternatively, if this is not possible, you could create a model for each specific task. For a task specific model, each task would be classified with its own feed-forward model."
   ]
  },
  {
   "cell_type": "code",
   "execution_count": 12,
   "metadata": {},
   "outputs": [],
   "source": [
    "from sklearn.metrics import mean_squared_error as sk_mean_squared_error\n",
    "from sklearn.metrics import accuracy_score \n",
    "from sklearn.metrics import precision_score, mean_squared_log_error\n",
    "\n",
    "def bland_altman_plot(data1, data2, *args, **kwargs):\n",
    "    mean      = np.mean([data1, data2], axis=0)\n",
    "    diff      = data1 - data2                   # Difference between data1 and data2\n",
    "    md        = np.mean(diff)                   # Mean of the difference\n",
    "    sd        = np.std(diff, axis=0)            # Standard deviation of the difference\n",
    "    \n",
    "    plt.figure(figsize=(15,10))\n",
    "    plt.scatter(mean, diff, *args, **kwargs)\n",
    "    plt.axhline(md,           color='gray', linestyle='--')\n",
    "    plt.axhline(md + 1.96*sd, color='gray', linestyle='--')\n",
    "    plt.axhline(md - 1.96*sd, color='gray', linestyle='--')\n",
    "    plt.title(\"Bland Altman, MSE: \"+str(sk_mean_squared_error(data1,data2)))\n",
    "    plt.xlabel('Mean Score', fontsize=8)\n",
    "    plt.ylabel('Diff Score', fontsize=8)\n",
    "    plt.show()"
   ]
  },
  {
   "cell_type": "code",
   "execution_count": 16,
   "metadata": {},
   "outputs": [],
   "source": [
    "import tensorflow as tf\n",
    "from tensorflow import keras\n",
    "from tensorflow.keras.models import Sequential\n",
    "from tensorflow.keras.layers import Dense, Dropout\n",
    "from sklearn import metrics as mt\n",
    "from sklearn.model_selection import ShuffleSplit\n",
    "from sklearn.metrics import roc_auc_score"
   ]
  },
  {
   "cell_type": "code",
   "execution_count": 14,
   "metadata": {},
   "outputs": [],
   "source": [
    "optimizer = tf.keras.optimizers.Adam(learning_rate=1e-6)\n",
    "# optimizer = tf.keras.optimizers.RMSprop(learning_rate=1e-5)\n",
    "\n",
    "model = Sequential()\n",
    "model.add(Dense(input_dim=X_train_all.shape[1], units=512, activation='relu', name='input_dense512'))\n",
    "model.add(Dropout(0.2))\n",
    "\n",
    "model.add(Dense(units=256, activation='relu', name='mid_dense256'))\n",
    "model.add(Dropout(0.2))\n",
    "\n",
    "model.add(Dense(units=256, activation='tanh', name='mid_dense2_216'))\n",
    "model.add(Dropout(0.2))\n",
    "\n",
    "model.add(Dense(units=128, activation='relu', name='mid_dense128'))\n",
    "model.add(Dropout(0.2))\n",
    "\n",
    "model.add(Dense(units=64, activation='tanh', name='mid_dense64'))\n",
    "model.add(Dropout(0.2))\n",
    "\n",
    "model.add(Dense(units=32, activation='relu', name='mid_dense32'))\n",
    "model.add(Dropout(0.2))\n",
    "\n",
    "model.add(Dense(units=16, activation='tanh', name='mid_dense16'))\n",
    "model.add(Dense(1, activation='sigmoid', name='output_layer'))\n",
    "\n",
    "model.compile(loss='binary_crossentropy', optimizer=optimizer, metrics=[\"accuracy\", \"AUC\"])\n",
    "\n"
   ]
  },
  {
   "cell_type": "code",
   "execution_count": 15,
   "metadata": {},
   "outputs": [
    {
     "name": "stdout",
     "output_type": "stream",
     "text": [
      "On Split 1\n",
      "Epoch 1/20\n",
      "1427/1427 [==============================] - 8s 5ms/step - loss: 0.5383 - accuracy: 0.8189 - auc: 0.5391 - val_loss: 0.4348 - val_accuracy: 0.8621 - val_auc: 0.6896\n",
      "Epoch 2/20\n",
      "1427/1427 [==============================] - 6s 4ms/step - loss: 0.4352 - accuracy: 0.8577 - auc: 0.5652 - val_loss: 0.3922 - val_accuracy: 0.8621 - val_auc: 0.7188\n",
      "Epoch 3/20\n",
      "1427/1427 [==============================] - 6s 4ms/step - loss: 0.4106 - accuracy: 0.8582 - auc: 0.5807 - val_loss: 0.3854 - val_accuracy: 0.8621 - val_auc: 0.7361\n",
      "Epoch 4/20\n",
      "1427/1427 [==============================] - 6s 4ms/step - loss: 0.4032 - accuracy: 0.8583 - auc: 0.5965 - val_loss: 0.3832 - val_accuracy: 0.8621 - val_auc: 0.7527\n",
      "Epoch 5/20\n",
      "1427/1427 [==============================] - 6s 4ms/step - loss: 0.4004 - accuracy: 0.8582 - auc: 0.6075 - val_loss: 0.3798 - val_accuracy: 0.8621 - val_auc: 0.7646\n",
      "Epoch 6/20\n",
      "1427/1427 [==============================] - 6s 4ms/step - loss: 0.3956 - accuracy: 0.8583 - auc: 0.6330 - val_loss: 0.3751 - val_accuracy: 0.8621 - val_auc: 0.7737\n",
      "Epoch 7/20\n",
      "1427/1427 [==============================] - 6s 4ms/step - loss: 0.3916 - accuracy: 0.8583 - auc: 0.6529 - val_loss: 0.3695 - val_accuracy: 0.8621 - val_auc: 0.7818\n",
      "Epoch 8/20\n",
      "1427/1427 [==============================] - 6s 4ms/step - loss: 0.3860 - accuracy: 0.8583 - auc: 0.6785 - val_loss: 0.3632 - val_accuracy: 0.8621 - val_auc: 0.7882\n",
      "Epoch 9/20\n",
      "1427/1427 [==============================] - 6s 4ms/step - loss: 0.3808 - accuracy: 0.8583 - auc: 0.6980 - val_loss: 0.3566 - val_accuracy: 0.8621 - val_auc: 0.7931\n",
      "Epoch 10/20\n",
      "1427/1427 [==============================] - 6s 4ms/step - loss: 0.3749 - accuracy: 0.8584 - auc: 0.7155 - val_loss: 0.3499 - val_accuracy: 0.8621 - val_auc: 0.7972\n",
      "Epoch 11/20\n",
      "1427/1427 [==============================] - 6s 4ms/step - loss: 0.3685 - accuracy: 0.8584 - auc: 0.7336 - val_loss: 0.3436 - val_accuracy: 0.8623 - val_auc: 0.8003\n",
      "Epoch 12/20\n",
      "1427/1427 [==============================] - 6s 4ms/step - loss: 0.3626 - accuracy: 0.8588 - auc: 0.7464 - val_loss: 0.3380 - val_accuracy: 0.8633 - val_auc: 0.8030\n",
      "Epoch 13/20\n",
      "1427/1427 [==============================] - 6s 4ms/step - loss: 0.3572 - accuracy: 0.8597 - auc: 0.7548 - val_loss: 0.3330 - val_accuracy: 0.8654 - val_auc: 0.8064\n",
      "Epoch 14/20\n",
      "1427/1427 [==============================] - 6s 4ms/step - loss: 0.3521 - accuracy: 0.8612 - auc: 0.7645 - val_loss: 0.3286 - val_accuracy: 0.8678 - val_auc: 0.8088\n",
      "Epoch 15/20\n",
      "1427/1427 [==============================] - 6s 4ms/step - loss: 0.3478 - accuracy: 0.8632 - auc: 0.7700 - val_loss: 0.3250 - val_accuracy: 0.8696 - val_auc: 0.8116\n",
      "Epoch 16/20\n",
      "1427/1427 [==============================] - 6s 4ms/step - loss: 0.3430 - accuracy: 0.8644 - auc: 0.7786 - val_loss: 0.3217 - val_accuracy: 0.8713 - val_auc: 0.8145\n",
      "Epoch 17/20\n",
      "1427/1427 [==============================] - 6s 5ms/step - loss: 0.3398 - accuracy: 0.8663 - auc: 0.7811 - val_loss: 0.3189 - val_accuracy: 0.8731 - val_auc: 0.8171\n",
      "Epoch 18/20\n",
      "1427/1427 [==============================] - 6s 4ms/step - loss: 0.3363 - accuracy: 0.8679 - auc: 0.7871 - val_loss: 0.3162 - val_accuracy: 0.8744 - val_auc: 0.8194\n",
      "Epoch 19/20\n",
      "1427/1427 [==============================] - 6s 4ms/step - loss: 0.3331 - accuracy: 0.8690 - auc: 0.7911 - val_loss: 0.3138 - val_accuracy: 0.8755 - val_auc: 0.8222\n",
      "Epoch 20/20\n",
      "1427/1427 [==============================] - 6s 4ms/step - loss: 0.3300 - accuracy: 0.8700 - auc: 0.7958 - val_loss: 0.3115 - val_accuracy: 0.8767 - val_auc: 0.8245\n",
      "On Split 2\n",
      "Epoch 1/20\n",
      "1427/1427 [==============================] - 6s 4ms/step - loss: 0.3275 - accuracy: 0.8714 - auc: 0.7983 - val_loss: 0.3139 - val_accuracy: 0.8766 - val_auc: 0.8254\n",
      "Epoch 2/20\n",
      "1427/1427 [==============================] - 6s 4ms/step - loss: 0.3241 - accuracy: 0.8727 - auc: 0.8040 - val_loss: 0.3119 - val_accuracy: 0.8775 - val_auc: 0.8271\n",
      "Epoch 3/20\n",
      "1427/1427 [==============================] - 6s 4ms/step - loss: 0.3223 - accuracy: 0.8741 - auc: 0.8053 - val_loss: 0.3098 - val_accuracy: 0.8784 - val_auc: 0.8295\n",
      "Epoch 4/20\n",
      "1427/1427 [==============================] - 6s 5ms/step - loss: 0.3201 - accuracy: 0.8745 - auc: 0.8085 - val_loss: 0.3080 - val_accuracy: 0.8797 - val_auc: 0.8321\n",
      "Epoch 5/20\n",
      "1427/1427 [==============================] - 6s 4ms/step - loss: 0.3184 - accuracy: 0.8747 - auc: 0.8114 - val_loss: 0.3060 - val_accuracy: 0.8808 - val_auc: 0.8343\n",
      "Epoch 6/20\n",
      "1427/1427 [==============================] - 6s 4ms/step - loss: 0.3164 - accuracy: 0.8761 - auc: 0.8129 - val_loss: 0.3042 - val_accuracy: 0.8818 - val_auc: 0.8361\n",
      "Epoch 7/20\n",
      "1427/1427 [==============================] - 6s 4ms/step - loss: 0.3136 - accuracy: 0.8767 - auc: 0.8178 - val_loss: 0.3023 - val_accuracy: 0.8827 - val_auc: 0.8382\n",
      "Epoch 8/20\n",
      "1427/1427 [==============================] - 6s 4ms/step - loss: 0.3120 - accuracy: 0.8779 - auc: 0.8197 - val_loss: 0.3006 - val_accuracy: 0.8834 - val_auc: 0.8403\n",
      "Epoch 9/20\n",
      "1427/1427 [==============================] - 6s 4ms/step - loss: 0.3096 - accuracy: 0.8786 - auc: 0.8234 - val_loss: 0.2987 - val_accuracy: 0.8841 - val_auc: 0.8422\n",
      "Epoch 10/20\n",
      "1427/1427 [==============================] - 5s 4ms/step - loss: 0.3087 - accuracy: 0.8790 - auc: 0.8244 - val_loss: 0.2971 - val_accuracy: 0.8845 - val_auc: 0.8440\n",
      "Epoch 11/20\n",
      "1427/1427 [==============================] - 5s 4ms/step - loss: 0.3069 - accuracy: 0.8800 - auc: 0.8264 - val_loss: 0.2955 - val_accuracy: 0.8849 - val_auc: 0.8455\n",
      "Epoch 12/20\n",
      "1427/1427 [==============================] - 5s 4ms/step - loss: 0.3051 - accuracy: 0.8810 - auc: 0.8278 - val_loss: 0.2939 - val_accuracy: 0.8854 - val_auc: 0.8477\n",
      "Epoch 13/20\n",
      "1427/1427 [==============================] - 5s 4ms/step - loss: 0.3034 - accuracy: 0.8816 - auc: 0.8307 - val_loss: 0.2922 - val_accuracy: 0.8862 - val_auc: 0.8495\n",
      "Epoch 14/20\n",
      "1427/1427 [==============================] - 5s 4ms/step - loss: 0.3011 - accuracy: 0.8831 - auc: 0.8327 - val_loss: 0.2907 - val_accuracy: 0.8870 - val_auc: 0.8509\n",
      "Epoch 15/20\n",
      "1427/1427 [==============================] - 6s 4ms/step - loss: 0.3002 - accuracy: 0.8830 - auc: 0.8347 - val_loss: 0.2891 - val_accuracy: 0.8874 - val_auc: 0.8528\n",
      "Epoch 16/20\n",
      "1427/1427 [==============================] - 5s 4ms/step - loss: 0.2987 - accuracy: 0.8843 - auc: 0.8359 - val_loss: 0.2879 - val_accuracy: 0.8880 - val_auc: 0.8541\n",
      "Epoch 17/20\n",
      "1427/1427 [==============================] - 5s 4ms/step - loss: 0.2968 - accuracy: 0.8846 - auc: 0.8387 - val_loss: 0.2863 - val_accuracy: 0.8888 - val_auc: 0.8554\n",
      "Epoch 18/20\n",
      "1427/1427 [==============================] - 5s 4ms/step - loss: 0.2952 - accuracy: 0.8855 - auc: 0.8412 - val_loss: 0.2848 - val_accuracy: 0.8896 - val_auc: 0.8573\n",
      "Epoch 19/20\n",
      "1427/1427 [==============================] - 5s 4ms/step - loss: 0.2950 - accuracy: 0.8861 - auc: 0.8406 - val_loss: 0.2835 - val_accuracy: 0.8906 - val_auc: 0.8583\n",
      "Epoch 20/20\n",
      "1427/1427 [==============================] - 5s 4ms/step - loss: 0.2937 - accuracy: 0.8862 - auc: 0.8430 - val_loss: 0.2821 - val_accuracy: 0.8910 - val_auc: 0.8597\n",
      "On Split 3\n",
      "Epoch 1/20\n",
      "1427/1427 [==============================] - 6s 4ms/step - loss: 0.2921 - accuracy: 0.8871 - auc: 0.8451 - val_loss: 0.2737 - val_accuracy: 0.8942 - val_auc: 0.8681\n",
      "Epoch 2/20\n",
      "1427/1427 [==============================] - 5s 4ms/step - loss: 0.2911 - accuracy: 0.8874 - auc: 0.8457 - val_loss: 0.2725 - val_accuracy: 0.8942 - val_auc: 0.8693\n",
      "Epoch 3/20\n",
      "1427/1427 [==============================] - 5s 4ms/step - loss: 0.2899 - accuracy: 0.8881 - auc: 0.8465 - val_loss: 0.2714 - val_accuracy: 0.8953 - val_auc: 0.8704\n",
      "Epoch 4/20\n",
      "1427/1427 [==============================] - 5s 4ms/step - loss: 0.2888 - accuracy: 0.8889 - auc: 0.8485 - val_loss: 0.2704 - val_accuracy: 0.8959 - val_auc: 0.8715\n",
      "Epoch 5/20\n",
      "1427/1427 [==============================] - 5s 4ms/step - loss: 0.2873 - accuracy: 0.8895 - auc: 0.8496 - val_loss: 0.2693 - val_accuracy: 0.8965 - val_auc: 0.8724\n",
      "Epoch 6/20\n",
      "1427/1427 [==============================] - 6s 4ms/step - loss: 0.2860 - accuracy: 0.8902 - auc: 0.8516 - val_loss: 0.2683 - val_accuracy: 0.8968 - val_auc: 0.8735\n",
      "Epoch 7/20\n",
      "1427/1427 [==============================] - 6s 4ms/step - loss: 0.2843 - accuracy: 0.8908 - auc: 0.8536 - val_loss: 0.2672 - val_accuracy: 0.8975 - val_auc: 0.8744\n",
      "Epoch 8/20\n",
      "1427/1427 [==============================] - 5s 4ms/step - loss: 0.2829 - accuracy: 0.8916 - auc: 0.8551 - val_loss: 0.2662 - val_accuracy: 0.8984 - val_auc: 0.8751\n",
      "Epoch 9/20\n",
      "1427/1427 [==============================] - 5s 4ms/step - loss: 0.2819 - accuracy: 0.8918 - auc: 0.8560 - val_loss: 0.2653 - val_accuracy: 0.8990 - val_auc: 0.8761\n",
      "Epoch 10/20\n",
      "1427/1427 [==============================] - 5s 4ms/step - loss: 0.2806 - accuracy: 0.8922 - auc: 0.8577 - val_loss: 0.2643 - val_accuracy: 0.8991 - val_auc: 0.8771\n",
      "Epoch 11/20\n",
      "1427/1427 [==============================] - 5s 4ms/step - loss: 0.2794 - accuracy: 0.8925 - auc: 0.8593 - val_loss: 0.2634 - val_accuracy: 0.8999 - val_auc: 0.8780\n",
      "Epoch 12/20\n",
      "1427/1427 [==============================] - 5s 4ms/step - loss: 0.2776 - accuracy: 0.8939 - auc: 0.8609 - val_loss: 0.2625 - val_accuracy: 0.9004 - val_auc: 0.8789\n",
      "Epoch 13/20\n",
      "1427/1427 [==============================] - 5s 4ms/step - loss: 0.2769 - accuracy: 0.8945 - auc: 0.8621 - val_loss: 0.2616 - val_accuracy: 0.9010 - val_auc: 0.8800\n",
      "Epoch 14/20\n",
      "1427/1427 [==============================] - 5s 4ms/step - loss: 0.2750 - accuracy: 0.8952 - auc: 0.8632 - val_loss: 0.2607 - val_accuracy: 0.9013 - val_auc: 0.8809\n",
      "Epoch 15/20\n",
      "1427/1427 [==============================] - 5s 4ms/step - loss: 0.2738 - accuracy: 0.8960 - auc: 0.8647 - val_loss: 0.2599 - val_accuracy: 0.9015 - val_auc: 0.8819\n",
      "Epoch 16/20\n",
      "1427/1427 [==============================] - 5s 4ms/step - loss: 0.2742 - accuracy: 0.8958 - auc: 0.8646 - val_loss: 0.2590 - val_accuracy: 0.9020 - val_auc: 0.8825\n",
      "Epoch 17/20\n",
      "1427/1427 [==============================] - 5s 4ms/step - loss: 0.2728 - accuracy: 0.8962 - auc: 0.8665 - val_loss: 0.2581 - val_accuracy: 0.9025 - val_auc: 0.8830\n",
      "Epoch 18/20\n",
      "1427/1427 [==============================] - 5s 4ms/step - loss: 0.2707 - accuracy: 0.8973 - auc: 0.8678 - val_loss: 0.2574 - val_accuracy: 0.9028 - val_auc: 0.8840\n",
      "Epoch 19/20\n",
      "1427/1427 [==============================] - 6s 4ms/step - loss: 0.2704 - accuracy: 0.8980 - auc: 0.8678 - val_loss: 0.2565 - val_accuracy: 0.9035 - val_auc: 0.8847\n",
      "Epoch 20/20\n",
      "1427/1427 [==============================] - 5s 4ms/step - loss: 0.2688 - accuracy: 0.8979 - auc: 0.8698 - val_loss: 0.2557 - val_accuracy: 0.9038 - val_auc: 0.8856\n",
      "On Split 4\n",
      "Epoch 1/20\n",
      "1427/1427 [==============================] - 6s 4ms/step - loss: 0.2676 - accuracy: 0.8987 - auc: 0.8705 - val_loss: 0.2563 - val_accuracy: 0.9038 - val_auc: 0.8905\n",
      "Epoch 2/20\n",
      "1427/1427 [==============================] - 5s 4ms/step - loss: 0.2663 - accuracy: 0.8995 - auc: 0.8717 - val_loss: 0.2556 - val_accuracy: 0.9040 - val_auc: 0.8909\n",
      "Epoch 3/20\n",
      "1427/1427 [==============================] - 5s 4ms/step - loss: 0.2652 - accuracy: 0.8998 - auc: 0.8729 - val_loss: 0.2548 - val_accuracy: 0.9040 - val_auc: 0.8918\n",
      "Epoch 4/20\n",
      "1427/1427 [==============================] - 5s 4ms/step - loss: 0.2644 - accuracy: 0.8996 - auc: 0.8736 - val_loss: 0.2541 - val_accuracy: 0.9047 - val_auc: 0.8925\n",
      "Epoch 5/20\n",
      "1427/1427 [==============================] - 6s 4ms/step - loss: 0.2629 - accuracy: 0.9007 - auc: 0.8751 - val_loss: 0.2531 - val_accuracy: 0.9053 - val_auc: 0.8931\n",
      "Epoch 6/20\n",
      "1427/1427 [==============================] - 6s 4ms/step - loss: 0.2616 - accuracy: 0.9015 - auc: 0.8769 - val_loss: 0.2523 - val_accuracy: 0.9057 - val_auc: 0.8935\n",
      "Epoch 7/20\n",
      "1427/1427 [==============================] - 5s 4ms/step - loss: 0.2610 - accuracy: 0.9015 - auc: 0.8772 - val_loss: 0.2517 - val_accuracy: 0.9066 - val_auc: 0.8940\n",
      "Epoch 8/20\n",
      "1427/1427 [==============================] - 5s 4ms/step - loss: 0.2609 - accuracy: 0.9018 - auc: 0.8771 - val_loss: 0.2510 - val_accuracy: 0.9069 - val_auc: 0.8947\n",
      "Epoch 9/20\n",
      "1427/1427 [==============================] - 6s 4ms/step - loss: 0.2593 - accuracy: 0.9022 - auc: 0.8789 - val_loss: 0.2502 - val_accuracy: 0.9076 - val_auc: 0.8955\n",
      "Epoch 10/20\n",
      "1427/1427 [==============================] - 6s 4ms/step - loss: 0.2586 - accuracy: 0.9023 - auc: 0.8786 - val_loss: 0.2493 - val_accuracy: 0.9076 - val_auc: 0.8961\n",
      "Epoch 11/20\n",
      "1427/1427 [==============================] - 6s 4ms/step - loss: 0.2565 - accuracy: 0.9036 - auc: 0.8811 - val_loss: 0.2487 - val_accuracy: 0.9080 - val_auc: 0.8970\n",
      "Epoch 12/20\n",
      "1427/1427 [==============================] - 6s 4ms/step - loss: 0.2558 - accuracy: 0.9040 - auc: 0.8817 - val_loss: 0.2478 - val_accuracy: 0.9081 - val_auc: 0.8977\n",
      "Epoch 13/20\n",
      "1427/1427 [==============================] - 6s 4ms/step - loss: 0.2541 - accuracy: 0.9045 - auc: 0.8838 - val_loss: 0.2471 - val_accuracy: 0.9082 - val_auc: 0.8982\n",
      "Epoch 14/20\n",
      "1427/1427 [==============================] - 6s 4ms/step - loss: 0.2544 - accuracy: 0.9048 - auc: 0.8831 - val_loss: 0.2465 - val_accuracy: 0.9086 - val_auc: 0.8987\n",
      "Epoch 15/20\n",
      "1427/1427 [==============================] - 6s 4ms/step - loss: 0.2526 - accuracy: 0.9054 - auc: 0.8852 - val_loss: 0.2458 - val_accuracy: 0.9091 - val_auc: 0.8992\n",
      "Epoch 16/20\n",
      "1427/1427 [==============================] - 6s 4ms/step - loss: 0.2524 - accuracy: 0.9056 - auc: 0.8853 - val_loss: 0.2452 - val_accuracy: 0.9096 - val_auc: 0.8997\n",
      "Epoch 17/20\n",
      "1427/1427 [==============================] - 6s 4ms/step - loss: 0.2504 - accuracy: 0.9064 - auc: 0.8866 - val_loss: 0.2444 - val_accuracy: 0.9097 - val_auc: 0.9000\n",
      "Epoch 18/20\n",
      "1427/1427 [==============================] - 6s 4ms/step - loss: 0.2494 - accuracy: 0.9067 - auc: 0.8871 - val_loss: 0.2438 - val_accuracy: 0.9101 - val_auc: 0.9008\n",
      "Epoch 19/20\n",
      "1427/1427 [==============================] - 6s 4ms/step - loss: 0.2494 - accuracy: 0.9068 - auc: 0.8882 - val_loss: 0.2433 - val_accuracy: 0.9103 - val_auc: 0.9010\n",
      "Epoch 20/20\n",
      "1427/1427 [==============================] - 6s 4ms/step - loss: 0.2483 - accuracy: 0.9072 - auc: 0.8880 - val_loss: 0.2427 - val_accuracy: 0.9106 - val_auc: 0.9016\n",
      "On Split 5\n",
      "Epoch 1/20\n",
      "1427/1427 [==============================] - 7s 5ms/step - loss: 0.2478 - accuracy: 0.9073 - auc: 0.8896 - val_loss: 0.2262 - val_accuracy: 0.9190 - val_auc: 0.9072\n",
      "Epoch 2/20\n",
      "1427/1427 [==============================] - 6s 4ms/step - loss: 0.2474 - accuracy: 0.9081 - auc: 0.8901 - val_loss: 0.2258 - val_accuracy: 0.9193 - val_auc: 0.9075\n",
      "Epoch 3/20\n",
      "1427/1427 [==============================] - 6s 4ms/step - loss: 0.2466 - accuracy: 0.9077 - auc: 0.8911 - val_loss: 0.2253 - val_accuracy: 0.9193 - val_auc: 0.9080\n",
      "Epoch 4/20\n",
      "1427/1427 [==============================] - 6s 4ms/step - loss: 0.2453 - accuracy: 0.9086 - auc: 0.8920 - val_loss: 0.2247 - val_accuracy: 0.9195 - val_auc: 0.9086\n",
      "Epoch 5/20\n",
      "1427/1427 [==============================] - 6s 4ms/step - loss: 0.2441 - accuracy: 0.9088 - auc: 0.8925 - val_loss: 0.2242 - val_accuracy: 0.9195 - val_auc: 0.9091\n",
      "Epoch 6/20\n",
      "1427/1427 [==============================] - 6s 4ms/step - loss: 0.2437 - accuracy: 0.9097 - auc: 0.8929 - val_loss: 0.2237 - val_accuracy: 0.9197 - val_auc: 0.9096\n",
      "Epoch 7/20\n",
      "1427/1427 [==============================] - 6s 4ms/step - loss: 0.2430 - accuracy: 0.9103 - auc: 0.8939 - val_loss: 0.2232 - val_accuracy: 0.9200 - val_auc: 0.9100\n",
      "Epoch 8/20\n",
      "1427/1427 [==============================] - 6s 4ms/step - loss: 0.2417 - accuracy: 0.9102 - auc: 0.8945 - val_loss: 0.2226 - val_accuracy: 0.9203 - val_auc: 0.9105\n",
      "Epoch 9/20\n",
      "1427/1427 [==============================] - 6s 4ms/step - loss: 0.2418 - accuracy: 0.9103 - auc: 0.8953 - val_loss: 0.2221 - val_accuracy: 0.9206 - val_auc: 0.9109\n",
      "Epoch 10/20\n",
      "1427/1427 [==============================] - 6s 4ms/step - loss: 0.2405 - accuracy: 0.9112 - auc: 0.8963 - val_loss: 0.2217 - val_accuracy: 0.9212 - val_auc: 0.9113\n",
      "Epoch 11/20\n",
      "1427/1427 [==============================] - 6s 5ms/step - loss: 0.2396 - accuracy: 0.9113 - auc: 0.8969 - val_loss: 0.2211 - val_accuracy: 0.9214 - val_auc: 0.9117\n",
      "Epoch 12/20\n",
      "1427/1427 [==============================] - 6s 4ms/step - loss: 0.2374 - accuracy: 0.9111 - auc: 0.8996 - val_loss: 0.2206 - val_accuracy: 0.9217 - val_auc: 0.9120\n",
      "Epoch 13/20\n",
      "1427/1427 [==============================] - 6s 4ms/step - loss: 0.2380 - accuracy: 0.9119 - auc: 0.8983 - val_loss: 0.2201 - val_accuracy: 0.9217 - val_auc: 0.9122\n",
      "Epoch 14/20\n",
      "1427/1427 [==============================] - 6s 4ms/step - loss: 0.2367 - accuracy: 0.9131 - auc: 0.8989 - val_loss: 0.2196 - val_accuracy: 0.9221 - val_auc: 0.9125\n",
      "Epoch 15/20\n",
      "1427/1427 [==============================] - 6s 4ms/step - loss: 0.2362 - accuracy: 0.9130 - auc: 0.8996 - val_loss: 0.2190 - val_accuracy: 0.9223 - val_auc: 0.9130\n",
      "Epoch 16/20\n",
      "1427/1427 [==============================] - 6s 4ms/step - loss: 0.2349 - accuracy: 0.9136 - auc: 0.9013 - val_loss: 0.2186 - val_accuracy: 0.9225 - val_auc: 0.9133\n",
      "Epoch 17/20\n",
      "1427/1427 [==============================] - 6s 4ms/step - loss: 0.2343 - accuracy: 0.9140 - auc: 0.9008 - val_loss: 0.2181 - val_accuracy: 0.9228 - val_auc: 0.9135\n",
      "Epoch 18/20\n",
      "1427/1427 [==============================] - 6s 4ms/step - loss: 0.2336 - accuracy: 0.9143 - auc: 0.9012 - val_loss: 0.2177 - val_accuracy: 0.9224 - val_auc: 0.9139\n",
      "Epoch 19/20\n",
      "1427/1427 [==============================] - 6s 4ms/step - loss: 0.2321 - accuracy: 0.9147 - auc: 0.9029 - val_loss: 0.2171 - val_accuracy: 0.9227 - val_auc: 0.9140\n",
      "Epoch 20/20\n",
      "1427/1427 [==============================] - 6s 4ms/step - loss: 0.2311 - accuracy: 0.9154 - auc: 0.9039 - val_loss: 0.2166 - val_accuracy: 0.9227 - val_auc: 0.9142\n"
     ]
    }
   ],
   "source": [
    "# select cross validation\n",
    "cv = ShuffleSplit(n_splits=5)\n",
    "\n",
    "# initialize empty list of scores\n",
    "model_scores = []\n",
    "\n",
    "cv_split = 1\n",
    "\n",
    "# iterate through each CV and observe the model\n",
    "for train_index, test_index in cv.split(X_train_all, y_train_all):\n",
    "    \n",
    "    print(f\"On Split {cv_split}\")\n",
    "    \n",
    "    X_train_all_cv = X_train_all[train_index]\n",
    "    y_train_all_cv = y_train_all[train_index]\n",
    "    X_test_all_cv = X_train_all[test_index]\n",
    "    y_test_all_cv = y_train_all[test_index]\n",
    "    \n",
    "    \n",
    "\n",
    "    # fit the model\n",
    "    model_history = model.fit(X_train_all_cv, y_train_all_cv, epochs=20, steps_per_epoch=int(len(X_train_all_cv)/128), \n",
    "                              shuffle=False, verbose=1, batch_size=128, validation_data=(X_test_all_cv,y_test_all_cv))\n",
    "\n",
    "    # append scores\n",
    "    model_scores.append(model_history.history)\n",
    "    \n",
    "    cv_split += 1"
   ]
  },
  {
   "cell_type": "code",
   "execution_count": 18,
   "metadata": {},
   "outputs": [],
   "source": [
    "y_hat_general = model.predict(X_test_all)"
   ]
  },
  {
   "cell_type": "code",
   "execution_count": 19,
   "metadata": {},
   "outputs": [
    {
     "data": {
      "text/plain": [
       "0.9032399030274009"
      ]
     },
     "execution_count": 19,
     "metadata": {},
     "output_type": "execute_result"
    }
   ],
   "source": [
    "auc = roc_auc_score(y_test_all, y_hat_general)\n",
    "auc"
   ]
  },
  {
   "cell_type": "code",
   "execution_count": 20,
   "metadata": {},
   "outputs": [],
   "source": [
    "def roc_calc(model, X_test, y_test):\n",
    "    yhat = model.predict(X_test)\n",
    "    false_positive, true_positive, _ = mt.roc_curve(y_test.flatten(), yhat.flatten())\n",
    "    roc = mt.auc(false_positive, true_positive)\n",
    "    return false_positive, true_positive, roc"
   ]
  },
  {
   "cell_type": "code",
   "execution_count": 22,
   "metadata": {},
   "outputs": [],
   "source": [
    "# get the average AUC for all models\n",
    "model_fp, model_tp, model_roc = roc_calc(model, X_test_all, y_test_all)"
   ]
  },
  {
   "cell_type": "code",
   "execution_count": 23,
   "metadata": {},
   "outputs": [
    {
     "data": {
      "text/plain": [
       "<matplotlib.legend.Legend at 0x1bd5e182190>"
      ]
     },
     "execution_count": 23,
     "metadata": {},
     "output_type": "execute_result"
    },
    {
     "data": {
      "image/png": "[encoded data removed]",
      "text/plain": [
       "<Figure size 1080x720 with 1 Axes>"
      ]
     },
     "metadata": {
      "needs_background": "light"
     },
     "output_type": "display_data"
    }
   ],
   "source": [
    "# plot out all model AUC\n",
    "plt.figure(figsize=(15,10))\n",
    "plt.title('ROC Comparisons')\n",
    "plt.plot(model_fp, model_tp)\n",
    "plt.plot([0, 1])\n",
    "plt.ylabel('False Positives')\n",
    "plt.xlabel('True Positives')\n",
    "plt.legend([f\"generalized_mlp with AUC: {model_roc}\"])"
   ]
  },
  {
   "cell_type": "code",
   "execution_count": null,
   "metadata": {},
   "outputs": [],
   "source": [
    "#TODO: Bland Altman plot for train/test all tasks\n",
    "#TODO: Analyze and run a model (with cv split) per each task\n",
    "#TODO: Visualizations for tasked models (Bland Altman)"
   ]
  }
 ],
 "metadata": {
  "kernelspec": {
   "display_name": "Python 3 (ipykernel)",
   "language": "python",
   "name": "python3"
  },
  "language_info": {
   "codemirror_mode": {
    "name": "ipython",
    "version": 3
   },
   "file_extension": ".py",
   "mimetype": "text/x-python",
   "name": "python",
   "nbconvert_exporter": "python",
   "pygments_lexer": "ipython3",
   "version": "3.9.7"
  },
  "vscode": {
   "interpreter": {
    "hash": "91345feaad893ab48aac0cad8417a20c820522900c47c62ac45091529d156e55"
   }
  }
 },
 "nbformat": 4,
 "nbformat_minor": 2
}
