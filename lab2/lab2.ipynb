{
 "cells": [
  {
   "cell_type": "code",
   "execution_count": 5,
   "metadata": {},
   "outputs": [],
   "source": [
    "import pandas as pd\n",
    "import numpy as np\n",
    "import matplotlib.pyplot as plt\n",
    "\n",
    "from rdkit import Chem\n",
    "from rdkit.Chem import AllChem\n",
    "from sklearn.model_selection import train_test_split\n",
    "\n",
    "pd.options.display.max_columns = 100"
   ]
  },
  {
   "attachments": {},
   "cell_type": "markdown",
   "metadata": {},
   "source": [
    "> Give an overview of the dataset you have chosen to use.\n",
    ">\n",
    ">    - What is the classification task and what is the format of the feature data. Is this multi-task, multi-modal, or both? Explain.\n",
    ">    - Who collected the data? Why? When?\n",
    ">    - What evaluation criteria will you be using and why? \n"
   ]
  },
  {
   "attachments": {},
   "cell_type": "markdown",
   "metadata": {},
   "source": [
    "MySQL Query used to create the \"raw\" data from chemBL - note that we do filter to IC50 standard type and nM for our standard units as our only transformations prior to bringing this data into a Python Environment.  We do this to limit the size of the data ingested.  Additionally, we select on choice columns from our first table (Activities) as these columns we believed to be most important and all other columns to be irrelevant or redundant.\n",
    "```\n",
    "SELECT  a.activity_id,\n",
    "\t\ta.assay_id,\n",
    "        a.doc_id,\n",
    "        a.record_id,\n",
    "        a.molregno,\n",
    "        a.standard_relation,\n",
    "        a.standard_value,\n",
    "        a.standard_units,\n",
    "        a.standard_flag,\n",
    "        a.standard_type,\n",
    "        a.pchembl_value,\n",
    "        b.*,\n",
    "        c.*,\n",
    "        d.*,\n",
    "        e.canonical_smiles\n",
    "-- output data\n",
    "INTO OUTFILE 'C:/ProgramData/MySQL/MySQL Server 8.0/Uploads/result.tsv'\n",
    "FIELDS TERMINATED BY '\\t' OPTIONALLY ENCLOSED BY '\"'\n",
    "LINES TERMINATED BY '\\n'\n",
    "FROM chembl.activities a\n",
    "\n",
    "-- Join on ligand table\n",
    "inner join chembl.ligand_eff b\n",
    "on a.activity_id = b.activity_id\n",
    "\n",
    "-- Join on Compound Properties\n",
    "inner join chembl.compound_properties c\n",
    "on a.molregno = c.molregno\n",
    "\n",
    "-- Join on Assays\n",
    "inner join chembl.assays d\n",
    "on a.assay_id = d.assay_id\n",
    "\n",
    "-- Join on Compound Properties for the Smiles\n",
    "inner join chembl.compound_structures e\n",
    "on a.molregno = e.molregno\n",
    "\n",
    "where a.standard_type = 'IC50' and a.standard_units = 'nM';\n",
    "```"
   ]
  },
  {
   "cell_type": "code",
   "execution_count": 6,
   "metadata": {},
   "outputs": [],
   "source": [
    "# read in data\n",
    "df = pd.read_csv(\"chemBL.csv\")"
   ]
  },
  {
   "cell_type": "code",
   "execution_count": 7,
   "metadata": {},
   "outputs": [
    {
     "name": "stdout",
     "output_type": "stream",
     "text": [
      "562960\n"
     ]
    },
    {
     "data": {
      "text/html": [
       "<div>\n",
       "<style scoped>\n",
       "    .dataframe tbody tr th:only-of-type {\n",
       "        vertical-align: middle;\n",
       "    }\n",
       "\n",
       "    .dataframe tbody tr th {\n",
       "        vertical-align: top;\n",
       "    }\n",
       "\n",
       "    .dataframe thead th {\n",
       "        text-align: right;\n",
       "    }\n",
       "</style>\n",
       "<table border=\"1\" class=\"dataframe\">\n",
       "  <thead>\n",
       "    <tr style=\"text-align: right;\">\n",
       "      <th></th>\n",
       "      <th>standard_value</th>\n",
       "      <th>le</th>\n",
       "      <th>target_type</th>\n",
       "      <th>pref_name</th>\n",
       "      <th>canonical_smiles</th>\n",
       "      <th>molecular_species</th>\n",
       "    </tr>\n",
       "  </thead>\n",
       "  <tbody>\n",
       "    <tr>\n",
       "      <th>0</th>\n",
       "      <td>17000.0</td>\n",
       "      <td>0.20</td>\n",
       "      <td>SINGLE PROTEIN</td>\n",
       "      <td>Palmitoyl-CoA oxidase</td>\n",
       "      <td>Cc1nc2cc(OC[C@H](O)CN3CCN(CC(=O)NCCc4ccccc4)CC...</td>\n",
       "      <td>NEUTRAL</td>\n",
       "    </tr>\n",
       "    <tr>\n",
       "      <th>1</th>\n",
       "      <td>180.0</td>\n",
       "      <td>0.25</td>\n",
       "      <td>SINGLE PROTEIN</td>\n",
       "      <td>Palmitoyl-CoA oxidase</td>\n",
       "      <td>Cc1nc2cc(OC[C@H](O)CN3CCN(CC(=O)Nc4cccc(-c5ccc...</td>\n",
       "      <td>NEUTRAL</td>\n",
       "    </tr>\n",
       "    <tr>\n",
       "      <th>2</th>\n",
       "      <td>29.4</td>\n",
       "      <td>0.43</td>\n",
       "      <td>SINGLE PROTEIN</td>\n",
       "      <td>Beta-1 adrenergic receptor</td>\n",
       "      <td>CC(C)(C)NC[C@H](O)CON=C1c2ccccc2-c2ccccc21</td>\n",
       "      <td>BASE</td>\n",
       "    </tr>\n",
       "    <tr>\n",
       "      <th>3</th>\n",
       "      <td>30.8</td>\n",
       "      <td>0.43</td>\n",
       "      <td>SINGLE PROTEIN</td>\n",
       "      <td>Beta-2 adrenergic receptor</td>\n",
       "      <td>CC(C)(C)NC[C@H](O)CON=C1c2ccccc2-c2ccccc21</td>\n",
       "      <td>BASE</td>\n",
       "    </tr>\n",
       "    <tr>\n",
       "      <th>4</th>\n",
       "      <td>120.0</td>\n",
       "      <td>0.56</td>\n",
       "      <td>PROTEIN COMPLEX GROUP</td>\n",
       "      <td>GABA-A receptor; anion channel</td>\n",
       "      <td>CCOC(=O)c1cn2c(n1)sc1ccccc12</td>\n",
       "      <td>NEUTRAL</td>\n",
       "    </tr>\n",
       "  </tbody>\n",
       "</table>\n",
       "</div>"
      ],
      "text/plain": [
       "   standard_value    le            target_type  \\\n",
       "0         17000.0  0.20         SINGLE PROTEIN   \n",
       "1           180.0  0.25         SINGLE PROTEIN   \n",
       "2            29.4  0.43         SINGLE PROTEIN   \n",
       "3            30.8  0.43         SINGLE PROTEIN   \n",
       "4           120.0  0.56  PROTEIN COMPLEX GROUP   \n",
       "\n",
       "                        pref_name  \\\n",
       "0           Palmitoyl-CoA oxidase   \n",
       "1           Palmitoyl-CoA oxidase   \n",
       "2      Beta-1 adrenergic receptor   \n",
       "3      Beta-2 adrenergic receptor   \n",
       "4  GABA-A receptor; anion channel   \n",
       "\n",
       "                                    canonical_smiles molecular_species  \n",
       "0  Cc1nc2cc(OC[C@H](O)CN3CCN(CC(=O)NCCc4ccccc4)CC...           NEUTRAL  \n",
       "1  Cc1nc2cc(OC[C@H](O)CN3CCN(CC(=O)Nc4cccc(-c5ccc...           NEUTRAL  \n",
       "2         CC(C)(C)NC[C@H](O)CON=C1c2ccccc2-c2ccccc21              BASE  \n",
       "3         CC(C)(C)NC[C@H](O)CON=C1c2ccccc2-c2ccccc21              BASE  \n",
       "4                       CCOC(=O)c1cn2c(n1)sc1ccccc12           NEUTRAL  "
      ]
     },
     "execution_count": 7,
     "metadata": {},
     "output_type": "execute_result"
    }
   ],
   "source": [
    "# print length and show sample data\n",
    "print(len(df))\n",
    "df.head()"
   ]
  },
  {
   "cell_type": "code",
   "execution_count": 8,
   "metadata": {},
   "outputs": [],
   "source": [
    "# binarize ligand values based on ranges <=300 nM and >=10000 nM (1 for active, 0 for inactive respectively)\n",
    "df.loc[df[\"standard_value\"] <= 300.0, \"standard_value_bin\"] = 1\n",
    "df.loc[df[\"standard_value\"] >= 10000.0, \"standard_value_bin\"] = 0"
   ]
  },
  {
   "cell_type": "code",
   "execution_count": 9,
   "metadata": {},
   "outputs": [],
   "source": [
    "# filter out where molecular species is null as molecular species is either base, neutral, or acidic\n",
    "df = df[~df[\"molecular_species\"].isnull()]"
   ]
  },
  {
   "cell_type": "code",
   "execution_count": 10,
   "metadata": {},
   "outputs": [],
   "source": [
    "# determine the assay count by target name\n",
    "targets = df.groupby(\"pref_name\")[[\"target_type\"]].agg({\"target_type\": \"count\"}).sort_values(by=\"target_type\", ascending=False)\n",
    "\n",
    "targets[\"cumulative_count\"] = targets[\"target_type\"].cumsum()\n",
    "\n",
    "targets[\"cumulative_perc\"] = targets[\"cumulative_count\"]/sum(targets[\"target_type\"])\n",
    "\n",
    "targets = targets[targets[\"cumulative_perc\"] <= 0.8]\n",
    "\n",
    "targets.iloc[:100]\n",
    "\n",
    "df = df[df[\"pref_name\"].isin(targets.iloc[:100].index)]"
   ]
  },
  {
   "cell_type": "code",
   "execution_count": 11,
   "metadata": {},
   "outputs": [],
   "source": [
    "# CHATGPT GENERATED CODE\n",
    "# Define a function to generate fingerprints\n",
    "def generate_fingerprint(smiles):\n",
    "    mol = Chem.MolFromSmiles(smiles)\n",
    "    fp = AllChem.GetMorganFingerprintAsBitVect(mol, 2, nBits=1024)\n",
    "    features = np.zeros((1,))\n",
    "    Chem.DataStructs.ConvertToNumpyArray(fp, features)\n",
    "    return features\n",
    "\n",
    "# def generate_maccs(smiles):\n",
    "#     mol = Chem.MolFromSmiles(smiles)\n",
    "#     fp = MACCSkeys.GenMACCSKeys(mol)\n",
    "#     features = list(fp.GetOnBits())\n",
    "#     return features\n",
    "\n",
    "# Apply the function to each row of the DataFrame\n",
    "df['Fingerprint'] = df[\"canonical_smiles\"].apply(generate_fingerprint)\n",
    "\n"
   ]
  },
  {
   "attachments": {},
   "cell_type": "markdown",
   "metadata": {},
   "source": [
    ">[1.0 points] How many tasks or modalities are there in the dataset and how do you define each task or modality? That is, explain if the task is within the same domain, cross domains, etc. If there are too many tasks or modalities to train the data reasonably, select a subset of the tasks for classification. For example, you might want to only train on 50 of the classification tasks.  "
   ]
  },
  {
   "cell_type": "code",
   "execution_count": 12,
   "metadata": {},
   "outputs": [
    {
     "data": {
      "text/plain": [
       "(array([179384.,      0.,      0.,  44429.,      0.,      0.,  22614.,\n",
       "             0.,      0.,   3542.]),\n",
       " array([0. , 0.3, 0.6, 0.9, 1.2, 1.5, 1.8, 2.1, 2.4, 2.7, 3. ]),\n",
       " <BarContainer object of 10 artists>)"
      ]
     },
     "execution_count": 12,
     "metadata": {},
     "output_type": "execute_result"
    },
    {
     "data": {
      "image/png": "[encoded data removed]",
      "text/plain": [
       "<Figure size 432x288 with 2 Axes>"
      ]
     },
     "metadata": {
      "needs_background": "light"
     },
     "output_type": "display_data"
    }
   ],
   "source": [
    "# plot out each set of tasks\n",
    "fig, axs = plt.subplots(1, 2, sharey=True, tight_layout=True)\n",
    "\n",
    "axs[0].hist(df[\"target_type\"])\n",
    "axs[1].hist(df[\"molecular_species\"])"
   ]
  },
  {
   "cell_type": "code",
   "execution_count": 15,
   "metadata": {},
   "outputs": [],
   "source": [
    "task_X_list = []\n",
    "task_y_list = []\n",
    "\n",
    "for s in df[\"molecular_species\"].unique():\n",
    "    # example: neutral_X = np.array(df[df[\"molecular_species\"] == \"NEUTRAL\"][\"Fingerprint\"].tolist())\n",
    "    X = np.array(df[df[\"molecular_species\"] == s][\"Fingerprint\"].tolist())\n",
    "    y = df[df[\"molecular_species\"] == s][\"standard_value_bin\"].values\n",
    "\n",
    "    task_X_list.append((s, X))\n",
    "    task_y_list.append((s, y))"
   ]
  },
  {
   "cell_type": "code",
   "execution_count": null,
   "metadata": {},
   "outputs": [],
   "source": [
    "# used in case want to concat other datapoints\n",
    "# np.concatenate((neutral_arr, df[df[\"molecular_species\"] == \"NEUTRAL\"][\"standard_value_bin\"].values.reshape(-1,1)), axis=1)"
   ]
  },
  {
   "attachments": {},
   "cell_type": "markdown",
   "metadata": {},
   "source": [
    ">[1.0 points] Split the data into training and testing. Be sure to explain how you performed this operation and why you think it is reasonable to split this particular dataset this way. For multi-task datasets, be sure to explain if it is appropriate to stratify within each task. If the dataset is already split for you, explain how the split was achieved and how it is stratified."
   ]
  },
  {
   "cell_type": "code",
   "execution_count": null,
   "metadata": {},
   "outputs": [],
   "source": [
    "X_train, X_test, y_train, y_test = train_test_split(X, y, test_size=0.2, random_state=7)"
   ]
  },
  {
   "cell_type": "code",
   "execution_count": null,
   "metadata": {},
   "outputs": [],
   "source": []
  }
 ],
 "metadata": {
  "kernelspec": {
   "display_name": "base",
   "language": "python",
   "name": "python3"
  },
  "language_info": {
   "codemirror_mode": {
    "name": "ipython",
    "version": 3
   },
   "file_extension": ".py",
   "mimetype": "text/x-python",
   "name": "python",
   "nbconvert_exporter": "python",
   "pygments_lexer": "ipython3",
   "version": "3.9.7"
  },
  "orig_nbformat": 4,
  "vscode": {
   "interpreter": {
    "hash": "91345feaad893ab48aac0cad8417a20c820522900c47c62ac45091529d156e55"
   }
  }
 },
 "nbformat": 4,
 "nbformat_minor": 2
}
