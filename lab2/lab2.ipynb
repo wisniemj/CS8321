{
 "cells": [
  {
   "cell_type": "code",
   "execution_count": 1,
   "metadata": {},
   "outputs": [],
   "source": [
    "import pandas as pd\n",
    "import numpy as np\n",
    "import matplotlib.pyplot as plt\n",
    "\n",
    "from rdkit import Chem, ML\n",
    "from rdkit.Chem import AllChem\n",
    "from rdkit.ML import Scoring\n",
    "from rdkit.ML.Scoring import Scoring\n",
    "from rdkit.ML.Scoring.Scoring import CalcAUC, CalcBEDROC, CalcEnrichment\n",
    "from sklearn.model_selection import train_test_split\n",
    "\n",
    "pd.options.display.max_columns = 100"
   ]
  },
  {
   "cell_type": "markdown",
   "metadata": {},
   "source": [
    "> Give an overview of the dataset you have chosen to use.\n",
    ">\n",
    ">    - What is the classification task and what is the format of the feature data. Is this multi-task, multi-modal, or both? Explain.\n",
    ">    - Who collected the data? Why? When?\n",
    ">    - What evaluation criteria will you be using and why? \n"
   ]
  },
  {
   "cell_type": "markdown",
   "metadata": {},
   "source": [
    "MySQL Query used to create the \"raw\" data from chemBL - note that we do filter to IC50 standard type and nM for our standard units as our only transformations prior to bringing this data into a Python Environment.  We do this to limit the size of the data ingested.  Additionally, we select on choice columns from our first table (Activities) as these columns we believed to be most important and all other columns to be irrelevant or redundant.\n",
    "```\n",
    "SELECT  a.activity_id,\n",
    "\t\ta.assay_id,\n",
    "        a.doc_id,\n",
    "        a.record_id,\n",
    "        a.molregno,\n",
    "        a.standard_relation,\n",
    "        a.standard_value,\n",
    "        a.standard_units,\n",
    "        a.standard_flag,\n",
    "        a.standard_type,\n",
    "        a.pchembl_value,\n",
    "        b.*,\n",
    "        c.*,\n",
    "        d.*,\n",
    "        e.canonical_smiles\n",
    "-- output data\n",
    "INTO OUTFILE 'C:/ProgramData/MySQL/MySQL Server 8.0/Uploads/result.tsv'\n",
    "FIELDS TERMINATED BY '\\t' OPTIONALLY ENCLOSED BY '\"'\n",
    "LINES TERMINATED BY '\\n'\n",
    "FROM chembl.activities a\n",
    "\n",
    "-- Join on ligand table\n",
    "inner join chembl.ligand_eff b\n",
    "on a.activity_id = b.activity_id\n",
    "\n",
    "-- Join on Compound Properties\n",
    "inner join chembl.compound_properties c\n",
    "on a.molregno = c.molregno\n",
    "\n",
    "-- Join on Assays\n",
    "inner join chembl.assays d\n",
    "on a.assay_id = d.assay_id\n",
    "\n",
    "-- Join on Compound Properties for the Smiles\n",
    "inner join chembl.compound_structures e\n",
    "on a.molregno = e.molregno\n",
    "\n",
    "where a.standard_type = 'IC50' and a.standard_units = 'nM';\n",
    "```"
   ]
  },
  {
   "cell_type": "code",
   "execution_count": 2,
   "metadata": {},
   "outputs": [],
   "source": [
    "# read in data\n",
    "df = pd.read_csv(\"chemBL.csv\")"
   ]
  },
  {
   "cell_type": "code",
   "execution_count": 3,
   "metadata": {},
   "outputs": [
    {
     "name": "stdout",
     "output_type": "stream",
     "text": [
      "562960\n"
     ]
    },
    {
     "data": {
      "text/html": [
       "<div>\n",
       "<style scoped>\n",
       "    .dataframe tbody tr th:only-of-type {\n",
       "        vertical-align: middle;\n",
       "    }\n",
       "\n",
       "    .dataframe tbody tr th {\n",
       "        vertical-align: top;\n",
       "    }\n",
       "\n",
       "    .dataframe thead th {\n",
       "        text-align: right;\n",
       "    }\n",
       "</style>\n",
       "<table border=\"1\" class=\"dataframe\">\n",
       "  <thead>\n",
       "    <tr style=\"text-align: right;\">\n",
       "      <th></th>\n",
       "      <th>standard_value</th>\n",
       "      <th>le</th>\n",
       "      <th>target_type</th>\n",
       "      <th>pref_name</th>\n",
       "      <th>canonical_smiles</th>\n",
       "      <th>molecular_species</th>\n",
       "    </tr>\n",
       "  </thead>\n",
       "  <tbody>\n",
       "    <tr>\n",
       "      <th>0</th>\n",
       "      <td>17000.0</td>\n",
       "      <td>0.20</td>\n",
       "      <td>SINGLE PROTEIN</td>\n",
       "      <td>Palmitoyl-CoA oxidase</td>\n",
       "      <td>Cc1nc2cc(OC[C@H](O)CN3CCN(CC(=O)NCCc4ccccc4)CC...</td>\n",
       "      <td>NEUTRAL</td>\n",
       "    </tr>\n",
       "    <tr>\n",
       "      <th>1</th>\n",
       "      <td>180.0</td>\n",
       "      <td>0.25</td>\n",
       "      <td>SINGLE PROTEIN</td>\n",
       "      <td>Palmitoyl-CoA oxidase</td>\n",
       "      <td>Cc1nc2cc(OC[C@H](O)CN3CCN(CC(=O)Nc4cccc(-c5ccc...</td>\n",
       "      <td>NEUTRAL</td>\n",
       "    </tr>\n",
       "    <tr>\n",
       "      <th>2</th>\n",
       "      <td>29.4</td>\n",
       "      <td>0.43</td>\n",
       "      <td>SINGLE PROTEIN</td>\n",
       "      <td>Beta-1 adrenergic receptor</td>\n",
       "      <td>CC(C)(C)NC[C@H](O)CON=C1c2ccccc2-c2ccccc21</td>\n",
       "      <td>BASE</td>\n",
       "    </tr>\n",
       "    <tr>\n",
       "      <th>3</th>\n",
       "      <td>30.8</td>\n",
       "      <td>0.43</td>\n",
       "      <td>SINGLE PROTEIN</td>\n",
       "      <td>Beta-2 adrenergic receptor</td>\n",
       "      <td>CC(C)(C)NC[C@H](O)CON=C1c2ccccc2-c2ccccc21</td>\n",
       "      <td>BASE</td>\n",
       "    </tr>\n",
       "    <tr>\n",
       "      <th>4</th>\n",
       "      <td>120.0</td>\n",
       "      <td>0.56</td>\n",
       "      <td>PROTEIN COMPLEX GROUP</td>\n",
       "      <td>GABA-A receptor; anion channel</td>\n",
       "      <td>CCOC(=O)c1cn2c(n1)sc1ccccc12</td>\n",
       "      <td>NEUTRAL</td>\n",
       "    </tr>\n",
       "  </tbody>\n",
       "</table>\n",
       "</div>"
      ],
      "text/plain": [
       "   standard_value    le            target_type  \\\n",
       "0         17000.0  0.20         SINGLE PROTEIN   \n",
       "1           180.0  0.25         SINGLE PROTEIN   \n",
       "2            29.4  0.43         SINGLE PROTEIN   \n",
       "3            30.8  0.43         SINGLE PROTEIN   \n",
       "4           120.0  0.56  PROTEIN COMPLEX GROUP   \n",
       "\n",
       "                        pref_name  \\\n",
       "0           Palmitoyl-CoA oxidase   \n",
       "1           Palmitoyl-CoA oxidase   \n",
       "2      Beta-1 adrenergic receptor   \n",
       "3      Beta-2 adrenergic receptor   \n",
       "4  GABA-A receptor; anion channel   \n",
       "\n",
       "                                    canonical_smiles molecular_species  \n",
       "0  Cc1nc2cc(OC[C@H](O)CN3CCN(CC(=O)NCCc4ccccc4)CC...           NEUTRAL  \n",
       "1  Cc1nc2cc(OC[C@H](O)CN3CCN(CC(=O)Nc4cccc(-c5ccc...           NEUTRAL  \n",
       "2         CC(C)(C)NC[C@H](O)CON=C1c2ccccc2-c2ccccc21              BASE  \n",
       "3         CC(C)(C)NC[C@H](O)CON=C1c2ccccc2-c2ccccc21              BASE  \n",
       "4                       CCOC(=O)c1cn2c(n1)sc1ccccc12           NEUTRAL  "
      ]
     },
     "execution_count": 3,
     "metadata": {},
     "output_type": "execute_result"
    }
   ],
   "source": [
    "# print length and show sample data\n",
    "print(len(df))\n",
    "df.head()"
   ]
  },
  {
   "cell_type": "code",
   "execution_count": 4,
   "metadata": {},
   "outputs": [],
   "source": [
    "# binarize ligand values based on ranges <=300 nM and >=10000 nM (1 for active, 0 for inactive respectively)\n",
    "df.loc[df[\"standard_value\"] <= 300.0, \"standard_value_bin\"] = 1\n",
    "df.loc[df[\"standard_value\"] >= 10000.0, \"standard_value_bin\"] = 0"
   ]
  },
  {
   "cell_type": "code",
   "execution_count": 6,
   "metadata": {},
   "outputs": [],
   "source": [
    "# filter out where molecular species is null as molecular species is either base, neutral, or acidic\n",
    "# df = df[~df[\"molecular_species\"].isnull()]"
   ]
  },
  {
   "cell_type": "code",
   "execution_count": 14,
   "metadata": {},
   "outputs": [],
   "source": [
    "# determine the assay count by target name\n",
    "targets = df.groupby(\"pref_name\")[[\"target_type\"]].agg({\"target_type\": \"count\"}).sort_values(by=\"target_type\", ascending=False)\n",
    "\n",
    "targets[\"cumulative_count\"] = targets[\"target_type\"].cumsum()\n",
    "\n",
    "targets[\"cumulative_perc\"] = targets[\"cumulative_count\"]/sum(targets[\"target_type\"])\n",
    "\n",
    "# targets = targets[targets[\"cumulative_perc\"] <= 0.8]\n",
    "\n",
    "df = df[df[\"pref_name\"].isin(targets.iloc[:100].index)]\n"
   ]
  },
  {
   "cell_type": "code",
   "execution_count": 17,
   "metadata": {},
   "outputs": [],
   "source": [
    "# CHATGPT GENERATED CODE\n",
    "# Define a function to generate fingerprints\n",
    "def generate_fingerprint(smiles):\n",
    "    mol = Chem.MolFromSmiles(smiles)\n",
    "    fp = AllChem.GetMorganFingerprintAsBitVect(mol, 3, nBits=2048)\n",
    "    features = np.zeros((1,))\n",
    "    Chem.DataStructs.ConvertToNumpyArray(fp, features)\n",
    "    return features\n",
    "\n",
    "# def generate_maccs(smiles):\n",
    "#     mol = Chem.MolFromSmiles(smiles)\n",
    "#     fp = MACCSkeys.GenMACCSKeys(mol)\n",
    "#     features = list(fp.GetOnBits())\n",
    "#     return features\n",
    "\n",
    "# Apply the function to each row of the DataFrame\n",
    "df['Fingerprint'] = df[\"canonical_smiles\"].apply(generate_fingerprint)\n",
    "\n"
   ]
  },
  {
   "cell_type": "markdown",
   "metadata": {},
   "source": [
    ">[1.0 points] How many tasks or modalities are there in the dataset and how do you define each task or modality? That is, explain if the task is within the same domain, cross domains, etc. If there are too many tasks or modalities to train the data reasonably, select a subset of the tasks for classification. For example, you might want to only train on 50 of the classification tasks.  "
   ]
  },
  {
   "cell_type": "code",
   "execution_count": 27,
   "metadata": {},
   "outputs": [
    {
     "data": {
      "text/plain": [
       "(array([34047., 24003., 26335., 23080., 21434., 29621., 29014., 23950.,\n",
       "        22299., 20036.]),\n",
       " array([ 0. ,  9.9, 19.8, 29.7, 39.6, 49.5, 59.4, 69.3, 79.2, 89.1, 99. ]),\n",
       " <BarContainer object of 10 artists>)"
      ]
     },
     "execution_count": 27,
     "metadata": {},
     "output_type": "execute_result"
    },
    {
     "data": {
      "image/png": "[encoded data removed]",
      "text/plain": [
       "<Figure size 432x288 with 2 Axes>"
      ]
     },
     "metadata": {
      "needs_background": "light"
     },
     "output_type": "display_data"
    }
   ],
   "source": [
    "# plot out each set of tasks\n",
    "fig, axs = plt.subplots(1, 2, sharey=True, tight_layout=True)\n",
    "\n",
    "# axs[0].hist(df[\"target_type\"])\n",
    "axs[1].hist(df[\"pref_name\"])"
   ]
  },
  {
   "cell_type": "code",
   "execution_count": 30,
   "metadata": {},
   "outputs": [],
   "source": [
    "task_X_list = []\n",
    "task_y_list = []\n",
    "\n",
    "for s in df[\"pref_name\"].unique():\n",
    "    # example: neutral_X = np.array(df[df[\"molecular_species\"] == \"NEUTRAL\"][\"Fingerprint\"].tolist())\n",
    "    X = np.array(df[df[\"pref_name\"] == s][\"Fingerprint\"].tolist())\n",
    "    y = df[df[\"pref_name\"] == s][\"standard_value_bin\"].values\n",
    "\n",
    "    task_X_list.append((s, X))\n",
    "    task_y_list.append((s, y))"
   ]
  },
  {
   "cell_type": "code",
   "execution_count": 10,
   "metadata": {},
   "outputs": [],
   "source": [
    "# used in case want to concat other datapoints\n",
    "# np.concatenate((neutral_arr, df[df[\"molecular_species\"] == \"NEUTRAL\"][\"standard_value_bin\"].values.reshape(-1,1)), axis=1)"
   ]
  },
  {
   "cell_type": "markdown",
   "metadata": {},
   "source": [
    ">[1.0 points] Split the data into training and testing. Be sure to explain how you performed this operation and why you think it is reasonable to split this particular dataset this way. For multi-task datasets, be sure to explain if it is appropriate to stratify within each task. If the dataset is already split for you, explain how the split was achieved and how it is stratified."
   ]
  },
  {
   "cell_type": "markdown",
   "metadata": {},
   "source": [
    "Since our dataset has ~250,000 records, we decided to split our data into 80% training, 20% testing. For the generalized model, we need to combine all of the tasks into a single task."
   ]
  },
  {
   "cell_type": "code",
   "execution_count": 48,
   "metadata": {},
   "outputs": [],
   "source": [
    "all_data = {\"data\": [], \"target\": [], \"data_test\": [], \"target_test\": []}\n",
    "\n",
    "for x,y in zip(task_X_list, task_y_list):\n",
    "    X_train, X_test, y_train, y_test = train_test_split(x[1], \n",
    "                                                        y[1], \n",
    "                                                        test_size=0.2, \n",
    "                                                        random_state=7)\n",
    "    \n",
    "    all_data[\"data\"].append(X_train)\n",
    "    all_data[\"target\"].append(y_train)        \n",
    "    all_data[\"data_test\"].append(X_test)\n",
    "    all_data[\"target_test\"].append(y_test)\n",
    "\n",
    "X_train_all = np.concatenate(all_data[\"data\"])\n",
    "y_train_all = np.concatenate(all_data[\"target\"])\n",
    "\n",
    "X_test_all = np.concatenate(all_data[\"data_test\"])\n",
    "y_test_all = np.concatenate(all_data[\"target_test\"])"
   ]
  },
  {
   "cell_type": "markdown",
   "metadata": {},
   "source": [
    ">[3.0 points] Train a general model (or per task model) to perform the classification tasks. That is, a general model uses all modalities and all tasks should combined into a single classification task (if possible). Alternatively, if this is not possible, you could create a model for each specific task. For a task specific model, each task would be classified with its own feed-forward model."
   ]
  },
  {
   "cell_type": "code",
   "execution_count": 50,
   "metadata": {},
   "outputs": [],
   "source": [
    "from sklearn.metrics import mean_squared_error as sk_mean_squared_error\n",
    "from sklearn.metrics import accuracy_score \n",
    "from sklearn.metrics import precision_score, mean_squared_log_error\n",
    "\n",
    "def bland_altman_plot(data1, data2, *args, **kwargs):\n",
    "    mean      = np.mean([data1, data2], axis=0)\n",
    "    diff      = data1 - data2                   # Difference between data1 and data2\n",
    "    md        = np.mean(diff)                   # Mean of the difference\n",
    "    sd        = np.std(diff, axis=0)            # Standard deviation of the difference\n",
    "    \n",
    "    plt.figure(figsize=(15,10))\n",
    "    plt.scatter(mean, diff, *args, **kwargs)\n",
    "    plt.axhline(md,           color='gray', linestyle='--')\n",
    "    plt.axhline(md + 1.96*sd, color='gray', linestyle='--')\n",
    "    plt.axhline(md - 1.96*sd, color='gray', linestyle='--')\n",
    "    plt.title(\"Bland Altman, MSE: \"+str(sk_mean_squared_error(data1,data2)))\n",
    "    plt.xlabel('Mean Score', fontsize=8)\n",
    "    plt.ylabel('Diff Score', fontsize=8)\n",
    "    plt.show()"
   ]
  },
  {
   "cell_type": "code",
   "execution_count": 52,
   "metadata": {},
   "outputs": [],
   "source": [
    "import tensorflow as tf\n",
    "from tensorflow import keras\n",
    "from tensorflow.keras.models import Sequential\n",
    "from tensorflow.keras.layers import Reshape\n",
    "from tensorflow.keras.layers import Dense, Dropout, Activation, Flatten\n",
    "\n"
   ]
  },
  {
   "cell_type": "code",
   "execution_count": null,
   "metadata": {},
   "outputs": [],
   "source": [
    "#TODO: Run model through cv split - refer to lab6,7 for code"
   ]
  },
  {
   "cell_type": "code",
   "execution_count": 54,
   "metadata": {},
   "outputs": [
    {
     "name": "stdout",
     "output_type": "stream",
     "text": [
      "Epoch 1/20\n",
      "6345/6345 [==============================] - 46s 7ms/step - loss: 0.3885 - accuracy: 0.8572 - auc: 0.6749 - val_loss: 0.3997 - val_accuracy: 0.8587 - val_auc: 0.7613\n",
      "Epoch 2/20\n",
      "6345/6345 [==============================] - 45s 7ms/step - loss: 0.3536 - accuracy: 0.8603 - auc: 0.7562 - val_loss: 0.3592 - val_accuracy: 0.8617 - val_auc: 0.7692\n",
      "Epoch 3/20\n",
      "6345/6345 [==============================] - 42s 7ms/step - loss: 0.3429 - accuracy: 0.8646 - auc: 0.7763 - val_loss: 0.3502 - val_accuracy: 0.8662 - val_auc: 0.7738\n",
      "Epoch 4/20\n",
      "6345/6345 [==============================] - 39s 6ms/step - loss: 0.3389 - accuracy: 0.8679 - auc: 0.7823 - val_loss: 0.3458 - val_accuracy: 0.8684 - val_auc: 0.7771\n",
      "Epoch 5/20\n",
      "6345/6345 [==============================] - 42s 7ms/step - loss: 0.3354 - accuracy: 0.8698 - auc: 0.7874 - val_loss: 0.3374 - val_accuracy: 0.8693 - val_auc: 0.7829\n",
      "Epoch 6/20\n",
      "6345/6345 [==============================] - 43s 7ms/step - loss: 0.3309 - accuracy: 0.8725 - auc: 0.7929 - val_loss: 0.3356 - val_accuracy: 0.8681 - val_auc: 0.7871\n",
      "Epoch 7/20\n",
      "6345/6345 [==============================] - 41s 7ms/step - loss: 0.3279 - accuracy: 0.8742 - auc: 0.7975 - val_loss: 0.3399 - val_accuracy: 0.8676 - val_auc: 0.7923\n",
      "Epoch 8/20\n",
      "6345/6345 [==============================] - 37s 6ms/step - loss: 0.3243 - accuracy: 0.8760 - auc: 0.8025 - val_loss: 0.3495 - val_accuracy: 0.8661 - val_auc: 0.7972\n",
      "Epoch 9/20\n",
      "6345/6345 [==============================] - 40s 6ms/step - loss: 0.3200 - accuracy: 0.8782 - auc: 0.8076 - val_loss: 0.3567 - val_accuracy: 0.8603 - val_auc: 0.8021\n",
      "Epoch 10/20\n",
      "6345/6345 [==============================] - 48s 8ms/step - loss: 0.3184 - accuracy: 0.8796 - auc: 0.8096 - val_loss: 0.3878 - val_accuracy: 0.8530 - val_auc: 0.8086\n",
      "Epoch 11/20\n",
      "6345/6345 [==============================] - 46s 7ms/step - loss: 0.3134 - accuracy: 0.8822 - auc: 0.8164 - val_loss: 0.3800 - val_accuracy: 0.8598 - val_auc: 0.8146\n",
      "Epoch 12/20\n",
      "6345/6345 [==============================] - 42s 7ms/step - loss: 0.3098 - accuracy: 0.8840 - auc: 0.8198 - val_loss: 0.3948 - val_accuracy: 0.8582 - val_auc: 0.8232\n",
      "Epoch 13/20\n",
      "6345/6345 [==============================] - 39s 6ms/step - loss: 0.3043 - accuracy: 0.8867 - auc: 0.8264 - val_loss: 0.4097 - val_accuracy: 0.8492 - val_auc: 0.8326\n",
      "Epoch 14/20\n",
      "6345/6345 [==============================] - 35s 5ms/step - loss: 0.3002 - accuracy: 0.8881 - auc: 0.8313 - val_loss: 0.4156 - val_accuracy: 0.8441 - val_auc: 0.8379\n",
      "Epoch 15/20\n",
      "6345/6345 [==============================] - 35s 5ms/step - loss: 0.2964 - accuracy: 0.8901 - auc: 0.8356 - val_loss: 0.4328 - val_accuracy: 0.8322 - val_auc: 0.8445\n",
      "Epoch 16/20\n",
      "6345/6345 [==============================] - 35s 5ms/step - loss: 0.2923 - accuracy: 0.8924 - auc: 0.8411 - val_loss: 0.4455 - val_accuracy: 0.8335 - val_auc: 0.8473\n",
      "Epoch 17/20\n",
      "6345/6345 [==============================] - 34s 5ms/step - loss: 0.2882 - accuracy: 0.8937 - auc: 0.8452 - val_loss: 0.4471 - val_accuracy: 0.8237 - val_auc: 0.8530\n",
      "Epoch 18/20\n",
      "6345/6345 [==============================] - 35s 6ms/step - loss: 0.2842 - accuracy: 0.8952 - auc: 0.8501 - val_loss: 0.4750 - val_accuracy: 0.7906 - val_auc: 0.8568\n",
      "Epoch 19/20\n",
      "6345/6345 [==============================] - 34s 5ms/step - loss: 0.2803 - accuracy: 0.8975 - auc: 0.8537 - val_loss: 0.4948 - val_accuracy: 0.7686 - val_auc: 0.8588\n",
      "Epoch 20/20\n",
      "6345/6345 [==============================] - 36s 6ms/step - loss: 0.2771 - accuracy: 0.8989 - auc: 0.8574 - val_loss: 0.4987 - val_accuracy: 0.7567 - val_auc: 0.8586\n"
     ]
    }
   ],
   "source": [
    "# optimizer = tf.keras.optimizers.Adam(learning_rate=1e-6)\n",
    "optimizer = tf.keras.optimizers.RMSprop(learning_rate=1e-5)\n",
    "\n",
    "generalized_mlp = Sequential()\n",
    "generalized_mlp.add(Dense(input_dim=X_train_all.shape[1], units=512, activation='relu', name='input_dense512'))\n",
    "generalized_mlp.add(Dropout(0.2))\n",
    "\n",
    "generalized_mlp.add(Dense(units=256, activation='relu', name='mid_dense256'))\n",
    "generalized_mlp.add(Dropout(0.2))\n",
    "\n",
    "generalized_mlp.add(Dense(units=256, activation='tanh', name='mid_dense2_216'))\n",
    "generalized_mlp.add(Dropout(0.2))\n",
    "\n",
    "generalized_mlp.add(Dense(units=128, activation='relu', name='mid_dense128'))\n",
    "generalized_mlp.add(Dropout(0.2))\n",
    "\n",
    "generalized_mlp.add(Dense(units=64, activation='tanh', name='mid_dense64'))\n",
    "generalized_mlp.add(Dropout(0.2))\n",
    "\n",
    "generalized_mlp.add(Dense(units=32, activation='relu', name='mid_dense32'))\n",
    "generalized_mlp.add(Dropout(0.2))\n",
    "\n",
    "generalized_mlp.add(Dense(units=16, activation='tanh', name='mid_dense16'))\n",
    "generalized_mlp.add(Dense(1, activation='sigmoid', name='output_layer'))\n",
    "\n",
    "generalized_mlp.compile(loss='binary_crossentropy', optimizer=optimizer, metrics=[\"accuracy\", \"AUC\"])\n",
    "\n",
    "generalized_mlp.fit(X_train_all, y_train_all, epochs=20, shuffle=False, verbose=1, batch_size=128, validation_data=(X_test_all,y_test_all))\n",
    "y_hat_general = generalized_mlp.predict(X_test_all)"
   ]
  },
  {
   "cell_type": "code",
   "execution_count": null,
   "metadata": {},
   "outputs": [],
   "source": [
    "# y_hat_converted = []\n",
    "# for i in y_hat_general:\n",
    "#     y_hat_converted.append(i[0])\n",
    "\n",
    "#don't think we need this anymore."
   ]
  },
  {
   "cell_type": "code",
   "execution_count": 55,
   "metadata": {},
   "outputs": [
    {
     "data": {
      "text/plain": [
       "0.8586551667286886"
      ]
     },
     "execution_count": 55,
     "metadata": {},
     "output_type": "execute_result"
    }
   ],
   "source": [
    "from sklearn.metrics import roc_auc_score\n",
    "\n",
    "auc = roc_auc_score(y_test_all, y_hat_general)\n",
    "auc"
   ]
  },
  {
   "cell_type": "code",
   "execution_count": 56,
   "metadata": {},
   "outputs": [],
   "source": [
    "from sklearn import metrics as mt\n",
    "\n",
    "def roc_calc(model, X_test, y_test):\n",
    "    yhat = model.predict(X_test)\n",
    "    false_positive, true_positive, _ = mt.roc_curve(y_test.flatten(), yhat.flatten())\n",
    "    roc = mt.auc(false_positive, true_positive)\n",
    "    return false_positive, true_positive, roc"
   ]
  },
  {
   "cell_type": "code",
   "execution_count": 57,
   "metadata": {},
   "outputs": [],
   "source": [
    "# get the average AUC for all models\n",
    "generalized_mlp_fp, generalized_mlp_tp, generalized_mlp_roc = roc_calc(generalized_mlp, X_test_all, y_test_all)"
   ]
  },
  {
   "cell_type": "code",
   "execution_count": 58,
   "metadata": {},
   "outputs": [
    {
     "data": {
      "text/plain": [
       "<matplotlib.legend.Legend at 0x2776a94f9a0>"
      ]
     },
     "execution_count": 58,
     "metadata": {},
     "output_type": "execute_result"
    },
    {
     "data": {
      "image/png": "[encoded data removed]",
      "text/plain": [
       "<Figure size 1080x720 with 1 Axes>"
      ]
     },
     "metadata": {
      "needs_background": "light"
     },
     "output_type": "display_data"
    }
   ],
   "source": [
    "# plot out all model AUC\n",
    "plt.figure(figsize=(15,10))\n",
    "plt.title('ROC Comparisons')\n",
    "plt.plot(generalized_mlp_fp, generalized_mlp_tp)\n",
    "plt.plot([0, 1])\n",
    "plt.ylabel('False Positives')\n",
    "plt.xlabel('True Positives')\n",
    "plt.legend([f\"generalized_mlp with AUC: {generalized_mlp_roc}\"])"
   ]
  },
  {
   "cell_type": "code",
   "execution_count": null,
   "metadata": {},
   "outputs": [],
   "source": []
  }
 ],
 "metadata": {
  "kernelspec": {
   "display_name": "Python 3 (ipykernel)",
   "language": "python",
   "name": "python3"
  },
  "language_info": {
   "codemirror_mode": {
    "name": "ipython",
    "version": 3
   },
   "file_extension": ".py",
   "mimetype": "text/x-python",
   "name": "python",
   "nbconvert_exporter": "python",
   "pygments_lexer": "ipython3",
   "version": "3.9.7"
  },
  "vscode": {
   "interpreter": {
    "hash": "91345feaad893ab48aac0cad8417a20c820522900c47c62ac45091529d156e55"
   }
  }
 },
 "nbformat": 4,
 "nbformat_minor": 2
}
