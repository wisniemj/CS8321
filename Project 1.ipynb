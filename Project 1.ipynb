{
 "cells": [
  {
   "cell_type": "markdown",
   "id": "24f835d0",
   "metadata": {},
   "source": [
    "# Lab 1: ConceptNet Ethics Testing"
   ]
  },
  {
   "cell_type": "markdown",
   "id": "3846e60c",
   "metadata": {},
   "source": [
    "#### Henry Lambson, Alex Gregory, Mike Wisniewski\n",
    "\n",
    "TODOs:\n",
    "    - Choose a second methodology at assessing bias\n",
    "        -Ideas: Instead of SGD for sentiment analysis we can use a LSTM\n",
    "        -Change the dataset to another dataset"
   ]
  },
  {
   "cell_type": "markdown",
   "id": "ebecbee0",
   "metadata": {},
   "source": [
    "### Part 1: Overview of Bias"
   ]
  },
  {
   "cell_type": "markdown",
   "id": "d0a34806",
   "metadata": {},
   "source": [
    ">Present an overview for what type of bias you will be investigating and why the particular investigation you will be doing is relevant. You might consider asking questions like: Why is it important to find this kind of bias in machine learning models? Why will the type of investigation I am performing be relevant to other researchers or practitioners? \n",
    "\n",
    "\n",
    "For our analysis of ConceptNet, our group decided to look into the potential bias the modal has to gender. We want to find out if there is a systematic difference between words associated with males and words associated with females. An example of this being \"waiter\" vs \"waitress\". We believe that this investigation is relevant because we think that ConceptNet trained on the large, unfiltered GloVe data will be inherently biased towards male positions. We believe that the model will be biased towards male terms in general, and we want to use job titles as a way to expose this bias. If the model is distriminatory when it is not meant to be, it can affect the business using the model, as well as the the consumers who use the business. From the business perspective, businesses risk their bottom line and credibility. From a consumer perspective, consumers are at risk of being alienated due to their identity. Due to this bias, we believe that low level NPL models can be biased in a way that will hurt businesses trying to reach consumers equally.    "
   ]
  },
  {
   "cell_type": "markdown",
   "id": "2c1d5432",
   "metadata": {},
   "source": [
    "### Part 2: Research Questions"
   ]
  },
  {
   "cell_type": "markdown",
   "id": "561577bf",
   "metadata": {},
   "source": [
    ">Present one or more research questions that you will be answering and explain the methods that you will employ to answer these research questions. Present a hypothesis as part of your research questions. \n",
    "\n",
    "\n",
    "\n",
    "Our main research question for this project is: \"Is ConceptNet trained on the large GloVe data biased towards male job titles and biased against female job titles?\" "
   ]
  },
  {
   "cell_type": "markdown",
   "id": "e2a7e4c6",
   "metadata": {},
   "source": [
    "### Part 3: Methodology\n",
    ">As part of your assignment, you will choose a methodology that involves comparing two (or more) techniques to one another. Discuss how you will measure a difference between the two techniques. That is, if you are measuring the difference statistically, what test will you use and why is it appropriate? Are there any limitations to performing this test that you should be aware of? "
   ]
  },
  {
   "cell_type": "markdown",
   "id": "91f3101d",
   "metadata": {},
   "source": [
    "### Preprocessing"
   ]
  },
  {
   "cell_type": "markdown",
   "id": "ce1b1f56",
   "metadata": {},
   "source": [
    "This first large section of code is grabbed from the in class example. We are using the same pre-processing that was shown and used in class. Once we have a sentiment analyzer, we will begin testing it for different biases. "
   ]
  },
  {
   "cell_type": "code",
   "execution_count": 25,
   "id": "ba8e3e2e",
   "metadata": {},
   "outputs": [],
   "source": [
    "# import relevant packages\n",
    "import numpy as np\n",
    "import pandas as pd\n",
    "import matplotlib\n",
    "import seaborn\n",
    "import re\n",
    "from sklearn.linear_model import SGDClassifier\n",
    "from sklearn.model_selection import train_test_split\n",
    "from sklearn.metrics import accuracy_score"
   ]
  },
  {
   "cell_type": "code",
   "execution_count": 2,
   "id": "b9e7476c",
   "metadata": {},
   "outputs": [],
   "source": [
    "# Configure how graphs will show up in this notebook\n",
    "%matplotlib inline\n",
    "seaborn.set_context('notebook', rc={'figure.figsize': (10, 6)}, font_scale=1.5)"
   ]
  },
  {
   "cell_type": "code",
   "execution_count": 26,
   "id": "585f5fe2",
   "metadata": {},
   "outputs": [
    {
     "name": "stderr",
     "output_type": "stream",
     "text": [
      "UsageError: Line magic function `%%time` not found.\n"
     ]
    }
   ],
   "source": [
    "%%time\n",
    "\n",
    "# load embeddings from a given file name\n",
    "def load_embeddings(filename):\n",
    "    \"\"\"\n",
    "    Load a DataFrame from the generalized text format used by word2vec, GloVe,\n",
    "    fastText, and ConceptNet Numberbatch. The main point where they differ is\n",
    "    whether there is an initial line with the dimensions of the matrix.\n",
    "    \"\"\"\n",
    "    labels = []\n",
    "    rows = []\n",
    "    with open(filename, encoding='utf-8') as infile:\n",
    "        for i, line in enumerate(infile):\n",
    "            items = line.rstrip().split(' ')\n",
    "            if len(items) == 2:\n",
    "                # This is a header row giving the shape of the matrix\n",
    "                continue\n",
    "            labels.append(items[0])\n",
    "            values = np.array([float(x) for x in items[1:]], 'f')\n",
    "            rows.append(values)\n",
    "    \n",
    "    arr = np.vstack(rows)\n",
    "    return pd.DataFrame(arr, index=labels, dtype='f')\n",
    "\n",
    "# load embeddings\n",
    "embeddings = load_embeddings('glove.840B.300d/glove.840B.300d.txt')\n",
    "embeddings.shape"
   ]
  },
  {
   "cell_type": "code",
   "execution_count": 27,
   "id": "5f590556",
   "metadata": {},
   "outputs": [],
   "source": [
    "# load lexicons from a given file name\n",
    "def load_lexicon(filename):\n",
    "    \"\"\"\n",
    "    Load a file from Bing Liu's sentiment lexicon\n",
    "    (https://www.cs.uic.edu/~liub/FBS/sentiment-analysis.html), containing\n",
    "    English words in Latin-1 encoding.\n",
    "    \n",
    "    One file contains a list of positive words, and the other contains\n",
    "    a list of negative words. The files contain comment lines starting\n",
    "    with ';' and blank lines, which should be skipped.\n",
    "    \"\"\"\n",
    "    lexicon = []\n",
    "    with open(filename, encoding='latin-1') as infile:\n",
    "        for line in infile:\n",
    "            line = line.rstrip()\n",
    "            if line and not line.startswith(';'):\n",
    "                lexicon.append(line)\n",
    "    return lexicon\n",
    "\n",
    "# import positive and negative words\n",
    "pos_words = load_lexicon('opinion-lexicon-English/positive-words.txt')\n",
    "neg_words = load_lexicon('opinion-lexicon-English/negative-words.txt')"
   ]
  },
  {
   "cell_type": "code",
   "execution_count": 29,
   "id": "cd9d893c",
   "metadata": {},
   "outputs": [],
   "source": [
    "# parse out the positive words that appear in our embeddings\n",
    "pos_words_common = list(set(pos_words) & set(embeddings.index))\n",
    "\n",
    "# parse out the negative words that appear in our embeddings\n",
    "neg_words_common = list(set(neg_words) & set(embeddings.index)) \n",
    "\n",
    "# vectorize positive and negative common words\n",
    "pos_vectors = embeddings.loc[pos_words_common]\n",
    "neg_vectors = embeddings.loc[neg_words_common]\n",
    "\n",
    "# create pd dataframe of positive and negative vectors\n",
    "vectors = pd.concat([pos_vectors, neg_vectors])"
   ]
  },
  {
   "cell_type": "code",
   "execution_count": 9,
   "id": "92fa1bfc",
   "metadata": {},
   "outputs": [],
   "source": [
    "# create a numerical representation of positive and negative vectors\n",
    "targets = np.array([1 for entry in pos_vectors.index] + [-1 for entry in neg_vectors.index])\n",
    "labels = list(pos_vectors.index) + list(neg_vectors.index)"
   ]
  },
  {
   "cell_type": "code",
   "execution_count": 10,
   "id": "2e2b10b8",
   "metadata": {},
   "outputs": [],
   "source": [
    "# split the dataset\n",
    "train_vectors, test_vectors, train_targets, test_targets, train_labels, test_labels = train_test_split(vectors, targets, labels, test_size=0.1, random_state=0)"
   ]
  },
  {
   "cell_type": "code",
   "execution_count": 18,
   "id": "e5290ea4",
   "metadata": {},
   "outputs": [
    {
     "data": {
      "text/plain": [
       "0.945619335347432"
      ]
     },
     "execution_count": 18,
     "metadata": {},
     "output_type": "execute_result"
    }
   ],
   "source": [
    "# initialize log loss classifier\n",
    "model = SGDClassifier(loss='log_loss', random_state=0, max_iter=100)\n",
    "\n",
    "# fit model\n",
    "model.fit(train_vectors, train_targets)\n",
    "\n",
    "# score model on test data\n",
    "accuracy_score(model.predict(test_vectors), test_targets)"
   ]
  },
  {
   "cell_type": "code",
   "execution_count": 36,
   "id": "100ab9f3",
   "metadata": {},
   "outputs": [
    {
     "data": {
      "text/html": [
       "<div>\n",
       "<style scoped>\n",
       "    .dataframe tbody tr th:only-of-type {\n",
       "        vertical-align: middle;\n",
       "    }\n",
       "\n",
       "    .dataframe tbody tr th {\n",
       "        vertical-align: top;\n",
       "    }\n",
       "\n",
       "    .dataframe thead th {\n",
       "        text-align: right;\n",
       "    }\n",
       "</style>\n",
       "<table border=\"1\" class=\"dataframe\">\n",
       "  <thead>\n",
       "    <tr style=\"text-align: right;\">\n",
       "      <th></th>\n",
       "      <th>sentiment</th>\n",
       "    </tr>\n",
       "  </thead>\n",
       "  <tbody>\n",
       "    <tr>\n",
       "      <th>capricious</th>\n",
       "      <td>-11.120600</td>\n",
       "    </tr>\n",
       "    <tr>\n",
       "      <th>authoritative</th>\n",
       "      <td>9.482031</td>\n",
       "    </tr>\n",
       "    <tr>\n",
       "      <th>abrupt</th>\n",
       "      <td>-11.834456</td>\n",
       "    </tr>\n",
       "    <tr>\n",
       "      <th>left-leaning</th>\n",
       "      <td>0.532946</td>\n",
       "    </tr>\n",
       "    <tr>\n",
       "      <th>perfect</th>\n",
       "      <td>10.670480</td>\n",
       "    </tr>\n",
       "    <tr>\n",
       "      <th>encourage</th>\n",
       "      <td>9.548579</td>\n",
       "    </tr>\n",
       "    <tr>\n",
       "      <th>prodigious</th>\n",
       "      <td>0.824441</td>\n",
       "    </tr>\n",
       "    <tr>\n",
       "      <th>obsessiveness</th>\n",
       "      <td>-6.540577</td>\n",
       "    </tr>\n",
       "    <tr>\n",
       "      <th>frazzled</th>\n",
       "      <td>-8.681968</td>\n",
       "    </tr>\n",
       "    <tr>\n",
       "      <th>rail</th>\n",
       "      <td>-1.605864</td>\n",
       "    </tr>\n",
       "    <tr>\n",
       "      <th>angriness</th>\n",
       "      <td>-4.657141</td>\n",
       "    </tr>\n",
       "    <tr>\n",
       "      <th>irregularity</th>\n",
       "      <td>-12.949765</td>\n",
       "    </tr>\n",
       "    <tr>\n",
       "      <th>qualified</th>\n",
       "      <td>9.163463</td>\n",
       "    </tr>\n",
       "    <tr>\n",
       "      <th>dump</th>\n",
       "      <td>-11.023488</td>\n",
       "    </tr>\n",
       "    <tr>\n",
       "      <th>irrepressible</th>\n",
       "      <td>-0.839874</td>\n",
       "    </tr>\n",
       "    <tr>\n",
       "      <th>oversimplify</th>\n",
       "      <td>-12.191168</td>\n",
       "    </tr>\n",
       "    <tr>\n",
       "      <th>underestimate</th>\n",
       "      <td>-6.940528</td>\n",
       "    </tr>\n",
       "    <tr>\n",
       "      <th>onslaught</th>\n",
       "      <td>-5.163867</td>\n",
       "    </tr>\n",
       "    <tr>\n",
       "      <th>lose</th>\n",
       "      <td>-4.530433</td>\n",
       "    </tr>\n",
       "    <tr>\n",
       "      <th>stunned</th>\n",
       "      <td>-0.994600</td>\n",
       "    </tr>\n",
       "  </tbody>\n",
       "</table>\n",
       "</div>"
      ],
      "text/plain": [
       "               sentiment\n",
       "capricious    -11.120600\n",
       "authoritative   9.482031\n",
       "abrupt        -11.834456\n",
       "left-leaning    0.532946\n",
       "perfect        10.670480\n",
       "encourage       9.548579\n",
       "prodigious      0.824441\n",
       "obsessiveness  -6.540577\n",
       "frazzled       -8.681968\n",
       "rail           -1.605864\n",
       "angriness      -4.657141\n",
       "irregularity  -12.949765\n",
       "qualified       9.163463\n",
       "dump          -11.023488\n",
       "irrepressible  -0.839874\n",
       "oversimplify  -12.191168\n",
       "underestimate  -6.940528\n",
       "onslaught      -5.163867\n",
       "lose           -4.530433\n",
       "stunned        -0.994600"
      ]
     },
     "execution_count": 36,
     "metadata": {},
     "output_type": "execute_result"
    }
   ],
   "source": [
    "def vecs_to_sentiment(vecs):\n",
    "    \"\"\"\n",
    "    To see an overall positive vs. negative classification in one number,\n",
    "    we take the log probability of positive sentiment minus the log\n",
    "    probability of negative sentiment.\n",
    "    this is a logarithm of the max margin for the classifier, \n",
    "    similar to odds ratio (but not exact) log(p_1/p_0) = log(p_1)-log(p_0)\n",
    "    \"\"\"\n",
    "\n",
    "    # predict_log_proba gives the log probability for each class\n",
    "    predictions = model.predict_log_proba(vecs)\n",
    "\n",
    "    return predictions[:, 1] - predictions[:, 0]\n",
    "\n",
    "\n",
    "def words_to_sentiment(words):\n",
    "    # vectorize the word\n",
    "    vecs = embeddings.loc[words].dropna()\n",
    "\n",
    "    # calculate log probability\n",
    "    log_odds = vecs_to_sentiment(vecs)\n",
    "    return pd.DataFrame({'sentiment': log_odds}, index=vecs.index)\n",
    "\n",
    "# Show 20 examples from the test set\n",
    "words_to_sentiment(test_labels).iloc[:20]"
   ]
  },
  {
   "cell_type": "code",
   "execution_count": 20,
   "id": "57474d1f",
   "metadata": {},
   "outputs": [],
   "source": [
    "TOKEN_RE = re.compile(r\"\\w.*?\\b\")\n",
    "# The regex above finds tokens that start with a word-like character (\\w), and continues\n",
    "# matching characters (.+?) until the next word break (\\b). It's a relatively simple\n",
    "# expression that manages to extract something very much like words from text.\n",
    "\n",
    "# sentiment for multiple words\n",
    "def text_to_sentiment(text):\n",
    "\n",
    "    # tokenize the input phrase\n",
    "    tokens = [token.casefold() for token in TOKEN_RE.findall(text)]\n",
    "\n",
    "    # send each token separately into the embedding, then the classifier\n",
    "    sentiments = words_to_sentiment(tokens)\n",
    "\n",
    "    # return the mean for the classifier\n",
    "    return sentiments['sentiment'].mean() "
   ]
  },
  {
   "cell_type": "markdown",
   "id": "fca123ee",
   "metadata": {},
   "source": [
    "### Part 4: Analysis\n",
    "> Carryout your analysis and model training. Explain your steps in as much detail so that the instructor can understand your code. \n",
    "\n",
    "\n",
    "\n",
    "From here, we will be testing out multiple datasets to try to find a bias due to gender. ConceptNet has a list of pairings that are typically associated with males and females. We decided to use this list as one of our datasets to test on. The female terms are on the left, and the male terms are on the right."
   ]
  },
  {
   "cell_type": "code",
   "execution_count": 21,
   "id": "b2764144",
   "metadata": {},
   "outputs": [],
   "source": [
    "GENDER_BIAS_PAIRS = [\n",
    "    ('pediatrician', 'orthopedic surgeon'),\n",
    "    ('housewife', 'shopkeeper'),\n",
    "    ('skirts', 'shorts'),\n",
    "    ('interior designer', 'architect'),\n",
    "    ('feminism', 'conservatism'),\n",
    "    ('adorable', 'goofy'),\n",
    "    ('vocalists', 'guitarists'),\n",
    "    ('cosmetics', 'pharmaceuticals'),\n",
    "    ('whore', 'coward'),\n",
    "    ('vocalist', 'guitarist'),\n",
    "    ('petite', 'lanky'),\n",
    "    ('blond', 'burly'),\n",
    "    ('nanny', 'chauffeur'),\n",
    "    ('sassy', 'snappy'),\n",
    "    ('charming', 'affable'),\n",
    "    ('giggle', 'chuckle'),\n",
    "    ('witch', 'demon'),\n",
    "    ('volleyball', 'football'),\n",
    "    ('feisty', 'mild mannered'),\n",
    "    ('cupcakes', 'pizzas'),\n",
    "    ('dolls', 'replicas'),\n",
    "    ('netball', 'rugby'),\n",
    "    ('glamorous', 'flashy'),\n",
    "    ('sweater', 'jersey'),\n",
    "    ('feminist', 'liberal'),\n",
    "    ('rebounder', 'playmaker'),\n",
    "    ('nude', 'shirtless'),\n",
    "    ('judgmental', 'arrogant'),\n",
    "    ('lovely', 'brilliant'),\n",
    "    ('practicality', 'durability'),\n",
    "    ('singer', 'frontman'),\n",
    "    ('violinist', 'virtuoso'),\n",
    "    ('beautiful', 'majestic'),\n",
    "    ('sexism', 'racism'),\n",
    "    ('pink', 'red'),\n",
    "    ('hysterical', 'comical'),\n",
    "    ('beauty', 'grandeur'),\n",
    "    ('cheerful', 'jovial')\n",
    "]\n",
    "\n",
    "FEMALE_ARR = [x[0] for x in GENDER_BIAS_PAIRS]\n",
    "MALE_ARR = [x[1] for x in GENDER_BIAS_PAIRS]\n",
    "TERM_DICT = {\"Female\":FEMALE_ARR, \"Male\":MALE_ARR}"
   ]
  },
  {
   "cell_type": "code",
   "execution_count": 62,
   "id": "a6bee77c",
   "metadata": {},
   "outputs": [],
   "source": [
    "# create a table of sentiment values for each word\n",
    "def term_sentiment_table():\n",
    "\n",
    "    # initialize empty frame\n",
    "    frames = []\n",
    "\n",
    "    # for gender and term\n",
    "    for gender, term_list in sorted(TERM_DICT.items()):\n",
    "        for term in term_list:\n",
    "\n",
    "            # calculate sentiment\n",
    "            sentiments = text_to_sentiment(term)\n",
    "\n",
    "            # append to dataframe\n",
    "            frames.append([sentiments,term,gender])\n",
    "\n",
    "    # Put together the data we got from each ethnic group into one big table\n",
    "    return frames\n",
    "\n",
    "# create a dataframe of sentiment values\n",
    "term_sentiments = term_sentiment_table()\n",
    "term_df = pd.DataFrame(term_sentiments, columns = [\"Sentiment\",\"Term\",\"Gender\"])"
   ]
  },
  {
   "cell_type": "markdown",
   "id": "960a3e3c",
   "metadata": {},
   "source": [
    ">Present results from your analysis and provide evidence from the results that support or refute your hypothesis. Write a conclusion based upon the various analyses you performed. Be sure to reference your research questions systematically in your conclusion. With your analysis complete, are there any additional research questions or limitations to your conclusions?"
   ]
  },
  {
   "cell_type": "code",
   "execution_count": 61,
   "id": "c5472496",
   "metadata": {},
   "outputs": [
    {
     "data": {
      "image/png": "[encoded data removed]",
      "text/plain": [
       "<Figure size 1080x360 with 2 Axes>"
      ]
     },
     "metadata": {
      "needs_background": "light"
     },
     "output_type": "display_data"
    }
   ],
   "source": [
    "# analysis 1 with SGD\n",
    "matplotlib.pyplot.figure(figsize=(15,5))\n",
    "matplotlib.pyplot.subplot(121)\n",
    "plot = seaborn.swarmplot(x='Gender', y='Sentiment', data=term_df)\n",
    "plot.set_ylim([-10, 10]) \n",
    "matplotlib.pyplot.subplot(122)\n",
    "plot = seaborn.barplot(x='Gender', y='Sentiment', data=term_df, capsize=.1)"
   ]
  },
  {
   "cell_type": "code",
   "execution_count": null,
   "id": "4c18f230",
   "metadata": {},
   "outputs": [],
   "source": [
    "# analysis 2 with LSTM\n",
    "matplotlib.pyplot.figure(figsize=(15,5))\n",
    "matplotlib.pyplot.subplot(121)\n",
    "plot = seaborn.swarmplot(x='Gender', y='Sentiment', data=term_df)\n",
    "plot.set_ylim([-10, 10]) \n",
    "matplotlib.pyplot.subplot(122)\n",
    "plot = seaborn.barplot(x='Gender', y='Sentiment', data=term_df, capsize=.1)"
   ]
  },
  {
   "cell_type": "markdown",
   "id": "8734cc4a",
   "metadata": {},
   "source": [
    ">Identify two conferences or journals that would be interested in the results of your analysis.  "
   ]
  },
  {
   "cell_type": "code",
   "execution_count": null,
   "id": "1b846958",
   "metadata": {},
   "outputs": [],
   "source": []
  },
  {
   "cell_type": "markdown",
   "id": "1b9ab89d",
   "metadata": {},
   "source": [
    "### References\n",
    "[1] https://careersmart.org.uk/occupations/equality/which-jobs-do-men-and-women-do-occupational-breakdown-gender"
   ]
  },
  {
   "cell_type": "code",
   "execution_count": null,
   "id": "d0cca416",
   "metadata": {},
   "outputs": [],
   "source": []
  }
 ],
 "metadata": {
  "kernelspec": {
   "display_name": "Python 3 (ipykernel)",
   "language": "python",
   "name": "python3"
  },
  "language_info": {
   "codemirror_mode": {
    "name": "ipython",
    "version": 3
   },
   "file_extension": ".py",
   "mimetype": "text/x-python",
   "name": "python",
   "nbconvert_exporter": "python",
   "pygments_lexer": "ipython3",
   "version": "3.9.7"
  }
 },
 "nbformat": 4,
 "nbformat_minor": 5
}
