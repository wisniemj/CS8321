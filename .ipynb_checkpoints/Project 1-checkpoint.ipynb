{
 "cells": [
  {
   "cell_type": "markdown",
   "id": "24f835d0",
   "metadata": {},
   "source": [
    "# Lab 1: ConceptNet Ethics Testing"
   ]
  },
  {
   "cell_type": "markdown",
   "id": "3846e60c",
   "metadata": {},
   "source": [
    "#### Henry Lambson, Alex Gregory, Mike Wisniewski"
   ]
  },
  {
   "cell_type": "markdown",
   "id": "ebecbee0",
   "metadata": {},
   "source": [
    "### Part 1: Overview of Bias"
   ]
  },
  {
   "cell_type": "markdown",
   "id": "d0a34806",
   "metadata": {},
   "source": [
    ">Present an overview for what type of bias you will be investigating and why the particular investigation you will be doing is relevant. You might consider asking questions like: Why is it important to find this kind of bias in machine learning models? Why will the type of investigation I am performing be relevant to other researchers or practitioners? \n",
    "\n",
    "\n",
    "For our analysis of ConceptNet, our group decided to look into the potential bias the modal has to gender. We want to find out if there is a systematic difference between words associated with males and words associated with females. An example of this being \"waitor\" vs \"waitress\". We believe that this investigation is relevant because we think that ConceptNet trained on the large, unfiltered GloVe data will be inherently biased towards male positions. We believe that the model will be biased towards male terms in general, and we want to use job titles as a way to expose this bias. If the model is distriminatory when it is not meant to be, it can affect the business using the model, as well as the the consumers who use the business. From the business perspective, businesses risk their bottom line and credibility. From a consumer perspective, consumers are at risk of being alienated due to their identity. Due to this bias, we believe that low level NPL models can be biased in a way that will hurt businesses trying to reach consumers equally.    "
   ]
  },
  {
   "cell_type": "markdown",
   "id": "2c1d5432",
   "metadata": {},
   "source": [
    "### Part 2: Research Questions"
   ]
  },
  {
   "cell_type": "markdown",
   "id": "561577bf",
   "metadata": {},
   "source": [
    ">Present one or more research questions that you will be answering and explain the methods that you will employ to answer these research questions. Present a hypothesis as part of your research questions. \n",
    "\n",
    "\n",
    "\n",
    "Our main research question for this project is: \"Is ConceptNet trained on the large GloVe data biased towards male job titles and biased against female job titles?\" "
   ]
  },
  {
   "cell_type": "markdown",
   "id": "e2a7e4c6",
   "metadata": {},
   "source": [
    "### Part 3: Methodology\n",
    ">As part of your assignment, you will choose a methodology that involves comparing two (or more) techniques to one another. Discuss how you will measure a difference between the two techniques. That is, if you are measuring the difference statistically, what test will you use and why is it appropriate? Are there any limitations to performing this test that you should be aware of? "
   ]
  },
  {
   "cell_type": "markdown",
   "id": "91f3101d",
   "metadata": {},
   "source": [
    "### Preprocessing"
   ]
  },
  {
   "cell_type": "markdown",
   "id": "ce1b1f56",
   "metadata": {},
   "source": [
    "This first large section of code is grabbed from the in class example. We are using the same pre-processing that was shown and used in class. Once we have a sentiment analyzer, we will begin testing it for different biases. "
   ]
  },
  {
   "cell_type": "code",
   "execution_count": 2,
   "id": "ba8e3e2e",
   "metadata": {},
   "outputs": [],
   "source": [
    "import numpy as np\n",
    "import pandas as pd\n",
    "import matplotlib\n",
    "import seaborn\n",
    "import re\n",
    "\n",
    "from sklearn.linear_model import SGDClassifier\n",
    "from sklearn.model_selection import train_test_split\n",
    "from sklearn.metrics import accuracy_score"
   ]
  },
  {
   "cell_type": "code",
   "execution_count": 3,
   "id": "b9e7476c",
   "metadata": {},
   "outputs": [],
   "source": [
    "# Configure how graphs will show up in this notebook\n",
    "%matplotlib inline\n",
    "seaborn.set_context('notebook', rc={'figure.figsize': (10, 6)}, font_scale=1.5)"
   ]
  },
  {
   "cell_type": "code",
   "execution_count": 6,
   "id": "585f5fe2",
   "metadata": {},
   "outputs": [
    {
     "name": "stdout",
     "output_type": "stream",
     "text": [
      "Wall time: 5min\n"
     ]
    },
    {
     "data": {
      "text/plain": [
       "(2196018, 300)"
      ]
     },
     "execution_count": 6,
     "metadata": {},
     "output_type": "execute_result"
    }
   ],
   "source": [
    "%%time\n",
    "def load_embeddings(filename):\n",
    "    \"\"\"\n",
    "    Load a DataFrame from the generalized text format used by word2vec, GloVe,\n",
    "    fastText, and ConceptNet Numberbatch. The main point where they differ is\n",
    "    whether there is an initial line with the dimensions of the matrix.\n",
    "    \"\"\"\n",
    "    labels = []\n",
    "    rows = []\n",
    "    with open(filename, encoding='utf-8') as infile:\n",
    "        for i, line in enumerate(infile):\n",
    "            items = line.rstrip().split(' ')\n",
    "            if len(items) == 2:\n",
    "                # This is a header row giving the shape of the matrix\n",
    "                continue\n",
    "            labels.append(items[0])\n",
    "            values = np.array([float(x) for x in items[1:]], 'f')\n",
    "            rows.append(values)\n",
    "    \n",
    "    arr = np.vstack(rows)\n",
    "    return pd.DataFrame(arr, index=labels, dtype='f')\n",
    "\n",
    "embeddings = load_embeddings('glove.840B.300d/glove.840B.300d.txt')\n",
    "embeddings.shape"
   ]
  },
  {
   "cell_type": "code",
   "execution_count": 9,
   "id": "5f590556",
   "metadata": {},
   "outputs": [
    {
     "name": "stdout",
     "output_type": "stream",
     "text": [
      "2006 4783\n"
     ]
    }
   ],
   "source": [
    "def load_lexicon(filename):\n",
    "    \"\"\"\n",
    "    Load a file from Bing Liu's sentiment lexicon\n",
    "    (https://www.cs.uic.edu/~liub/FBS/sentiment-analysis.html), containing\n",
    "    English words in Latin-1 encoding.\n",
    "    \n",
    "    One file contains a list of positive words, and the other contains\n",
    "    a list of negative words. The files contain comment lines starting\n",
    "    with ';' and blank lines, which should be skipped.\n",
    "    \"\"\"\n",
    "    lexicon = []\n",
    "    with open(filename, encoding='latin-1') as infile:\n",
    "        for line in infile:\n",
    "            line = line.rstrip()\n",
    "            if line and not line.startswith(';'):\n",
    "                lexicon.append(line)\n",
    "    return lexicon\n",
    "\n",
    "pos_words = load_lexicon('opinion-lexicon-English/positive-words.txt')\n",
    "neg_words = load_lexicon('opinion-lexicon-English/negative-words.txt')\n",
    "\n",
    "print(len(pos_words), len(neg_words))"
   ]
  },
  {
   "cell_type": "code",
   "execution_count": 10,
   "id": "cd9d893c",
   "metadata": {},
   "outputs": [
    {
     "name": "stdout",
     "output_type": "stream",
     "text": [
      "(1974, 300) (4642, 300)\n"
     ]
    }
   ],
   "source": [
    "pos_words_common = list(set(pos_words) & set(embeddings.index)) \n",
    "neg_words_common = list(set(neg_words) & set(embeddings.index)) \n",
    "\n",
    "pos_vectors = embeddings.loc[pos_words_common]\n",
    "neg_vectors = embeddings.loc[neg_words_common]\n",
    "print(pos_vectors.shape,neg_vectors.shape)"
   ]
  },
  {
   "cell_type": "code",
   "execution_count": 11,
   "id": "92fa1bfc",
   "metadata": {},
   "outputs": [],
   "source": [
    "vectors = pd.concat([pos_vectors, neg_vectors])\n",
    "targets = np.array([1 for entry in pos_vectors.index] + [-1 for entry in neg_vectors.index])\n",
    "labels = list(pos_vectors.index) + list(neg_vectors.index)"
   ]
  },
  {
   "cell_type": "code",
   "execution_count": 12,
   "id": "2e2b10b8",
   "metadata": {},
   "outputs": [],
   "source": [
    "train_vectors, test_vectors, train_targets, test_targets, train_labels, test_labels = \\\n",
    "    train_test_split(vectors, targets, labels, test_size=0.1, random_state=0)"
   ]
  },
  {
   "cell_type": "code",
   "execution_count": 18,
   "id": "e5290ea4",
   "metadata": {},
   "outputs": [
    {
     "data": {
      "text/plain": [
       "0.9501510574018127"
      ]
     },
     "execution_count": 18,
     "metadata": {},
     "output_type": "execute_result"
    }
   ],
   "source": [
    "# create a linear classifier \n",
    "model = SGDClassifier(loss='log', random_state=0, max_iter=100)\n",
    "model.fit(train_vectors, train_targets)\n",
    "accuracy_score(model.predict(test_vectors), test_targets)"
   ]
  },
  {
   "cell_type": "code",
   "execution_count": 19,
   "id": "100ab9f3",
   "metadata": {},
   "outputs": [
    {
     "data": {
      "text/html": [
       "<div>\n",
       "<style scoped>\n",
       "    .dataframe tbody tr th:only-of-type {\n",
       "        vertical-align: middle;\n",
       "    }\n",
       "\n",
       "    .dataframe tbody tr th {\n",
       "        vertical-align: top;\n",
       "    }\n",
       "\n",
       "    .dataframe thead th {\n",
       "        text-align: right;\n",
       "    }\n",
       "</style>\n",
       "<table border=\"1\" class=\"dataframe\">\n",
       "  <thead>\n",
       "    <tr style=\"text-align: right;\">\n",
       "      <th></th>\n",
       "      <th>sentiment</th>\n",
       "    </tr>\n",
       "  </thead>\n",
       "  <tbody>\n",
       "    <tr>\n",
       "      <th>crook</th>\n",
       "      <td>-5.459896</td>\n",
       "    </tr>\n",
       "    <tr>\n",
       "      <th>precisely</th>\n",
       "      <td>2.792905</td>\n",
       "    </tr>\n",
       "    <tr>\n",
       "      <th>damnable</th>\n",
       "      <td>-9.700099</td>\n",
       "    </tr>\n",
       "    <tr>\n",
       "      <th>infirm</th>\n",
       "      <td>-5.840972</td>\n",
       "    </tr>\n",
       "    <tr>\n",
       "      <th>adaptive</th>\n",
       "      <td>2.221449</td>\n",
       "    </tr>\n",
       "    <tr>\n",
       "      <th>quiet</th>\n",
       "      <td>4.629622</td>\n",
       "    </tr>\n",
       "    <tr>\n",
       "      <th>novelty</th>\n",
       "      <td>1.611212</td>\n",
       "    </tr>\n",
       "    <tr>\n",
       "      <th>furor</th>\n",
       "      <td>-3.665906</td>\n",
       "    </tr>\n",
       "    <tr>\n",
       "      <th>unjustifiable</th>\n",
       "      <td>-11.680079</td>\n",
       "    </tr>\n",
       "    <tr>\n",
       "      <th>frost</th>\n",
       "      <td>-1.982612</td>\n",
       "    </tr>\n",
       "    <tr>\n",
       "      <th>coward</th>\n",
       "      <td>-10.823619</td>\n",
       "    </tr>\n",
       "    <tr>\n",
       "      <th>warned</th>\n",
       "      <td>-7.753478</td>\n",
       "    </tr>\n",
       "    <tr>\n",
       "      <th>precise</th>\n",
       "      <td>7.901062</td>\n",
       "    </tr>\n",
       "    <tr>\n",
       "      <th>starve</th>\n",
       "      <td>-7.943441</td>\n",
       "    </tr>\n",
       "    <tr>\n",
       "      <th>symptom</th>\n",
       "      <td>-11.608543</td>\n",
       "    </tr>\n",
       "    <tr>\n",
       "      <th>insignificantly</th>\n",
       "      <td>-6.677659</td>\n",
       "    </tr>\n",
       "    <tr>\n",
       "      <th>inattentive</th>\n",
       "      <td>-18.331204</td>\n",
       "    </tr>\n",
       "    <tr>\n",
       "      <th>fist</th>\n",
       "      <td>-6.921797</td>\n",
       "    </tr>\n",
       "    <tr>\n",
       "      <th>mistress</th>\n",
       "      <td>-4.445924</td>\n",
       "    </tr>\n",
       "    <tr>\n",
       "      <th>secure</th>\n",
       "      <td>10.264522</td>\n",
       "    </tr>\n",
       "  </tbody>\n",
       "</table>\n",
       "</div>"
      ],
      "text/plain": [
       "                 sentiment\n",
       "crook            -5.459896\n",
       "precisely         2.792905\n",
       "damnable         -9.700099\n",
       "infirm           -5.840972\n",
       "adaptive          2.221449\n",
       "quiet             4.629622\n",
       "novelty           1.611212\n",
       "furor            -3.665906\n",
       "unjustifiable   -11.680079\n",
       "frost            -1.982612\n",
       "coward          -10.823619\n",
       "warned           -7.753478\n",
       "precise           7.901062\n",
       "starve           -7.943441\n",
       "symptom         -11.608543\n",
       "insignificantly  -6.677659\n",
       "inattentive     -18.331204\n",
       "fist             -6.921797\n",
       "mistress         -4.445924\n",
       "secure           10.264522"
      ]
     },
     "execution_count": 19,
     "metadata": {},
     "output_type": "execute_result"
    }
   ],
   "source": [
    "def vecs_to_sentiment(vecs):\n",
    "    # predict_log_proba gives the log probability for each class\n",
    "    predictions = model.predict_log_proba(vecs)\n",
    "\n",
    "    # To see an overall positive vs. negative classification in one number,\n",
    "    # we take the log probability of positive sentiment minus the log\n",
    "    # probability of negative sentiment.\n",
    "    # this is a logarithm of the max margin for the classifier, \n",
    "    # similar to odds ratio (but not exact) log(p_1/p_0) = log(p_1)-log(p_0)\n",
    "    return predictions[:, 1] - predictions[:, 0]\n",
    "\n",
    "\n",
    "def words_to_sentiment(words):\n",
    "    vecs = embeddings.loc[words].dropna()\n",
    "    log_odds = vecs_to_sentiment(vecs)\n",
    "    return pd.DataFrame({'sentiment': log_odds}, index=vecs.index)\n",
    "\n",
    "\n",
    "# Show 20 examples from the test set\n",
    "words_to_sentiment(test_labels).iloc[:20]"
   ]
  },
  {
   "cell_type": "code",
   "execution_count": 20,
   "id": "57474d1f",
   "metadata": {},
   "outputs": [],
   "source": [
    "import re\n",
    "TOKEN_RE = re.compile(r\"\\w.*?\\b\")\n",
    "# The regex above finds tokens that start with a word-like character (\\w), and continues\n",
    "# matching characters (.+?) until the next word break (\\b). It's a relatively simple\n",
    "# expression that manages to extract something very much like words from text.\n",
    "\n",
    "\n",
    "def text_to_sentiment(text):\n",
    "    # tokenize the input phrase\n",
    "    tokens = [token.casefold() for token in TOKEN_RE.findall(text)]\n",
    "    # send each token separately into the embedding, then the classifier\n",
    "    sentiments = words_to_sentiment(tokens)\n",
    "    return sentiments['sentiment'].mean() # return the mean for the classifier"
   ]
  },
  {
   "cell_type": "markdown",
   "id": "fca123ee",
   "metadata": {},
   "source": [
    "### Part 4: Analysis\n",
    "> Carryout your analysis and model training. Explain your steps in as much detail so that the instructor can understand your code. \n",
    "\n",
    "\n",
    "\n",
    "From here, we will be testing out multiple datasets to try to find a bias due to gender. ConceptNet has a list of pairings that are typically associated with males and females. We decided to use this list as one of our datasets to test on. The female terms are on the left, and the male terms are on the right."
   ]
  },
  {
   "cell_type": "code",
   "execution_count": 64,
   "id": "b2764144",
   "metadata": {},
   "outputs": [],
   "source": [
    "GENDER_BIAS_PAIRS = [\n",
    "    ('pediatrician', 'orthopedic surgeon'),\n",
    "    ('housewife', 'shopkeeper'),\n",
    "    ('skirts', 'shorts'),\n",
    "    ('interior designer', 'architect'),\n",
    "    ('feminism', 'conservatism'),\n",
    "    ('adorable', 'goofy'),\n",
    "    ('vocalists', 'guitarists'),\n",
    "    ('cosmetics', 'pharmaceuticals'),\n",
    "    ('whore', 'coward'),\n",
    "    ('vocalist', 'guitarist'),\n",
    "    ('petite', 'lanky'),\n",
    "    ('blond', 'burly'),\n",
    "    ('nanny', 'chauffeur'),\n",
    "    ('sassy', 'snappy'),\n",
    "    ('charming', 'affable'),\n",
    "    ('giggle', 'chuckle'),\n",
    "    ('witch', 'demon'),\n",
    "    ('volleyball', 'football'),\n",
    "    ('feisty', 'mild mannered'),\n",
    "    ('cupcakes', 'pizzas'),\n",
    "    ('dolls', 'replicas'),\n",
    "    ('netball', 'rugby'),\n",
    "    ('glamorous', 'flashy'),\n",
    "    ('sweater', 'jersey'),\n",
    "    ('feminist', 'liberal'),\n",
    "    ('rebounder', 'playmaker'),\n",
    "    ('nude', 'shirtless'),\n",
    "    ('judgmental', 'arrogant'),\n",
    "    ('lovely', 'brilliant'),\n",
    "    ('practicality', 'durability'),\n",
    "    ('singer', 'frontman'),\n",
    "    ('violinist', 'virtuoso'),\n",
    "    ('beautiful', 'majestic'),\n",
    "    ('sexism', 'racism'),\n",
    "    ('pink', 'red'),\n",
    "    ('hysterical', 'comical'),\n",
    "    ('beauty', 'grandeur'),\n",
    "    ('cheerful', 'jovial')\n",
    "]\n",
    "\n",
    "FEMALE_ARR = [x[0] for x in GENDER_BIAS_PAIRS]\n",
    "MALE_ARR = [x[1] for x in GENDER_BIAS_PAIRS]\n",
    "TERM_DICT = {\"Female\":FEMALE_ARR, \"Male\":MALE_ARR}"
   ]
  },
  {
   "cell_type": "code",
   "execution_count": 82,
   "id": "a6bee77c",
   "metadata": {},
   "outputs": [],
   "source": [
    "def term_sentiment_table():\n",
    "    frames = []\n",
    "    for gender, term_list in sorted(TERM_DICT.items()):\n",
    "        for term in term_list:\n",
    "            sentiments = text_to_sentiment(term)\n",
    "            \n",
    "            frames.append([sentiments,term,gender])\n",
    "\n",
    "    # Put together the data we got from each ethnic group into one big table\n",
    "    return frames\n",
    "\n",
    "term_sentiments = term_sentiment_table()"
   ]
  },
  {
   "cell_type": "code",
   "execution_count": 88,
   "id": "704fa38c",
   "metadata": {},
   "outputs": [
    {
     "data": {
      "text/html": [
       "<div>\n",
       "<style scoped>\n",
       "    .dataframe tbody tr th:only-of-type {\n",
       "        vertical-align: middle;\n",
       "    }\n",
       "\n",
       "    .dataframe tbody tr th {\n",
       "        vertical-align: top;\n",
       "    }\n",
       "\n",
       "    .dataframe thead th {\n",
       "        text-align: right;\n",
       "    }\n",
       "</style>\n",
       "<table border=\"1\" class=\"dataframe\">\n",
       "  <thead>\n",
       "    <tr style=\"text-align: right;\">\n",
       "      <th></th>\n",
       "      <th>Sentiment</th>\n",
       "      <th>Term</th>\n",
       "      <th>Gender</th>\n",
       "    </tr>\n",
       "  </thead>\n",
       "  <tbody>\n",
       "    <tr>\n",
       "      <th>0</th>\n",
       "      <td>2.852086</td>\n",
       "      <td>pediatrician</td>\n",
       "      <td>Female</td>\n",
       "    </tr>\n",
       "    <tr>\n",
       "      <th>1</th>\n",
       "      <td>-4.010928</td>\n",
       "      <td>housewife</td>\n",
       "      <td>Female</td>\n",
       "    </tr>\n",
       "    <tr>\n",
       "      <th>2</th>\n",
       "      <td>-5.051030</td>\n",
       "      <td>skirts</td>\n",
       "      <td>Female</td>\n",
       "    </tr>\n",
       "    <tr>\n",
       "      <th>3</th>\n",
       "      <td>2.350474</td>\n",
       "      <td>interior designer</td>\n",
       "      <td>Female</td>\n",
       "    </tr>\n",
       "    <tr>\n",
       "      <th>4</th>\n",
       "      <td>-1.210289</td>\n",
       "      <td>feminism</td>\n",
       "      <td>Female</td>\n",
       "    </tr>\n",
       "    <tr>\n",
       "      <th>...</th>\n",
       "      <td>...</td>\n",
       "      <td>...</td>\n",
       "      <td>...</td>\n",
       "    </tr>\n",
       "    <tr>\n",
       "      <th>71</th>\n",
       "      <td>-11.409067</td>\n",
       "      <td>racism</td>\n",
       "      <td>Male</td>\n",
       "    </tr>\n",
       "    <tr>\n",
       "      <th>72</th>\n",
       "      <td>-2.837527</td>\n",
       "      <td>red</td>\n",
       "      <td>Male</td>\n",
       "    </tr>\n",
       "    <tr>\n",
       "      <th>73</th>\n",
       "      <td>-3.819392</td>\n",
       "      <td>comical</td>\n",
       "      <td>Male</td>\n",
       "    </tr>\n",
       "    <tr>\n",
       "      <th>74</th>\n",
       "      <td>5.580091</td>\n",
       "      <td>grandeur</td>\n",
       "      <td>Male</td>\n",
       "    </tr>\n",
       "    <tr>\n",
       "      <th>75</th>\n",
       "      <td>8.093638</td>\n",
       "      <td>jovial</td>\n",
       "      <td>Male</td>\n",
       "    </tr>\n",
       "  </tbody>\n",
       "</table>\n",
       "<p>76 rows × 3 columns</p>\n",
       "</div>"
      ],
      "text/plain": [
       "    Sentiment               Term  Gender\n",
       "0    2.852086       pediatrician  Female\n",
       "1   -4.010928          housewife  Female\n",
       "2   -5.051030             skirts  Female\n",
       "3    2.350474  interior designer  Female\n",
       "4   -1.210289           feminism  Female\n",
       "..        ...                ...     ...\n",
       "71 -11.409067             racism    Male\n",
       "72  -2.837527                red    Male\n",
       "73  -3.819392            comical    Male\n",
       "74   5.580091           grandeur    Male\n",
       "75   8.093638             jovial    Male\n",
       "\n",
       "[76 rows x 3 columns]"
      ]
     },
     "execution_count": 88,
     "metadata": {},
     "output_type": "execute_result"
    }
   ],
   "source": [
    "term_df = pd.DataFrame(term_sentiments, columns = [\"Sentiment\",\"Term\",\"Gender\"])\n",
    "term_df"
   ]
  },
  {
   "cell_type": "code",
   "execution_count": 91,
   "id": "9801d92b",
   "metadata": {},
   "outputs": [
    {
     "data": {
      "image/png": "[encoded data removed]",
      "text/plain": [
       "<Figure size 1080x360 with 2 Axes>"
      ]
     },
     "metadata": {
      "needs_background": "light"
     },
     "output_type": "display_data"
    }
   ],
   "source": [
    "matplotlib.pyplot.figure(figsize=(15,5))\n",
    "matplotlib.pyplot.subplot(121)\n",
    "plot = seaborn.swarmplot(x='Gender', y='Sentiment', data=term_df)\n",
    "plot.set_ylim([-10, 10]) \n",
    "matplotlib.pyplot.subplot(122)\n",
    "plot = seaborn.barplot(x='Gender', y='Sentiment', data=term_df, capsize=.1)"
   ]
  },
  {
   "cell_type": "markdown",
   "id": "c3f86207",
   "metadata": {},
   "source": [
    "Some analysis of the graphs/table"
   ]
  },
  {
   "cell_type": "code",
   "execution_count": null,
   "id": "92a5993a",
   "metadata": {},
   "outputs": [],
   "source": []
  },
  {
   "cell_type": "markdown",
   "id": "1b9ab89d",
   "metadata": {},
   "source": [
    "### References\n",
    "[1] https://careersmart.org.uk/occupations/equality/which-jobs-do-men-and-women-do-occupational-breakdown-gender"
   ]
  },
  {
   "cell_type": "code",
   "execution_count": null,
   "id": "d0cca416",
   "metadata": {},
   "outputs": [],
   "source": []
  }
 ],
 "metadata": {
  "kernelspec": {
   "display_name": "Python 3 (ipykernel)",
   "language": "python",
   "name": "python3"
  },
  "language_info": {
   "codemirror_mode": {
    "name": "ipython",
    "version": 3
   },
   "file_extension": ".py",
   "mimetype": "text/x-python",
   "name": "python",
   "nbconvert_exporter": "python",
   "pygments_lexer": "ipython3",
   "version": "3.8.11"
  }
 },
 "nbformat": 4,
 "nbformat_minor": 5
}
